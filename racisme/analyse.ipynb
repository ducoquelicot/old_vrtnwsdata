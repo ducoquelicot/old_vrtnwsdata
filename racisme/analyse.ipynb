{
 "cells": [
  {
   "cell_type": "code",
   "execution_count": 1,
   "metadata": {},
   "outputs": [],
   "source": [
    "import pandas as pd \n",
    "from datetime import datetime as dt"
   ]
  },
  {
   "cell_type": "code",
   "execution_count": 2,
   "metadata": {},
   "outputs": [],
   "source": [
    "shootings = pd.read_csv('shootings.csv')\n",
    "arrests = pd.read_csv('arrests.csv', sep=';')"
   ]
  },
  {
   "cell_type": "code",
   "execution_count": 3,
   "metadata": {},
   "outputs": [
    {
     "output_type": "execute_result",
     "data": {
      "text/plain": "   id                name        date   manner_of_death       armed   age  \\\n0   3          Tim Elliot  2015-01-02              shot         gun  53.0   \n1   4    Lewis Lee Lembke  2015-01-02              shot         gun  47.0   \n2   5  John Paul Quintero  2015-01-03  shot and Tasered     unarmed  23.0   \n3   8     Matthew Hoffman  2015-01-04              shot  toy weapon  32.0   \n4   9   Michael Rodriguez  2015-01-04              shot    nail gun  39.0   \n\n  gender race           city state  signs_of_mental_illness threat_level  \\\n0      M    A        Shelton    WA                     True       attack   \n1      M    W          Aloha    OR                    False       attack   \n2      M    H        Wichita    KS                    False        other   \n3      M    W  San Francisco    CA                     True       attack   \n4      M    H          Evans    CO                    False       attack   \n\n          flee  body_camera  \n0  Not fleeing        False  \n1  Not fleeing        False  \n2  Not fleeing        False  \n3  Not fleeing        False  \n4  Not fleeing        False  ",
      "text/html": "<div>\n<style scoped>\n    .dataframe tbody tr th:only-of-type {\n        vertical-align: middle;\n    }\n\n    .dataframe tbody tr th {\n        vertical-align: top;\n    }\n\n    .dataframe thead th {\n        text-align: right;\n    }\n</style>\n<table border=\"1\" class=\"dataframe\">\n  <thead>\n    <tr style=\"text-align: right;\">\n      <th></th>\n      <th>id</th>\n      <th>name</th>\n      <th>date</th>\n      <th>manner_of_death</th>\n      <th>armed</th>\n      <th>age</th>\n      <th>gender</th>\n      <th>race</th>\n      <th>city</th>\n      <th>state</th>\n      <th>signs_of_mental_illness</th>\n      <th>threat_level</th>\n      <th>flee</th>\n      <th>body_camera</th>\n    </tr>\n  </thead>\n  <tbody>\n    <tr>\n      <th>0</th>\n      <td>3</td>\n      <td>Tim Elliot</td>\n      <td>2015-01-02</td>\n      <td>shot</td>\n      <td>gun</td>\n      <td>53.0</td>\n      <td>M</td>\n      <td>A</td>\n      <td>Shelton</td>\n      <td>WA</td>\n      <td>True</td>\n      <td>attack</td>\n      <td>Not fleeing</td>\n      <td>False</td>\n    </tr>\n    <tr>\n      <th>1</th>\n      <td>4</td>\n      <td>Lewis Lee Lembke</td>\n      <td>2015-01-02</td>\n      <td>shot</td>\n      <td>gun</td>\n      <td>47.0</td>\n      <td>M</td>\n      <td>W</td>\n      <td>Aloha</td>\n      <td>OR</td>\n      <td>False</td>\n      <td>attack</td>\n      <td>Not fleeing</td>\n      <td>False</td>\n    </tr>\n    <tr>\n      <th>2</th>\n      <td>5</td>\n      <td>John Paul Quintero</td>\n      <td>2015-01-03</td>\n      <td>shot and Tasered</td>\n      <td>unarmed</td>\n      <td>23.0</td>\n      <td>M</td>\n      <td>H</td>\n      <td>Wichita</td>\n      <td>KS</td>\n      <td>False</td>\n      <td>other</td>\n      <td>Not fleeing</td>\n      <td>False</td>\n    </tr>\n    <tr>\n      <th>3</th>\n      <td>8</td>\n      <td>Matthew Hoffman</td>\n      <td>2015-01-04</td>\n      <td>shot</td>\n      <td>toy weapon</td>\n      <td>32.0</td>\n      <td>M</td>\n      <td>W</td>\n      <td>San Francisco</td>\n      <td>CA</td>\n      <td>True</td>\n      <td>attack</td>\n      <td>Not fleeing</td>\n      <td>False</td>\n    </tr>\n    <tr>\n      <th>4</th>\n      <td>9</td>\n      <td>Michael Rodriguez</td>\n      <td>2015-01-04</td>\n      <td>shot</td>\n      <td>nail gun</td>\n      <td>39.0</td>\n      <td>M</td>\n      <td>H</td>\n      <td>Evans</td>\n      <td>CO</td>\n      <td>False</td>\n      <td>attack</td>\n      <td>Not fleeing</td>\n      <td>False</td>\n    </tr>\n  </tbody>\n</table>\n</div>"
     },
     "metadata": {},
     "execution_count": 3
    }
   ],
   "source": [
    "shootings.head()"
   ]
  },
  {
   "cell_type": "code",
   "execution_count": 4,
   "metadata": {},
   "outputs": [
    {
     "output_type": "execute_result",
     "data": {
      "text/plain": "                        Offense charged      Total      White  \\\n0                                 TOTAL  7.710.900  5.319.654   \n1  Murder and nonnegligent manslaughter      8.957      3.953   \n2                                 Rape3     18.776     12.794   \n3                               Robbery     66.789     29.025   \n4                    Aggravated assault    298.040    184.527   \n\n  Black or\\nAfrican\\nAmerican  American\\nIndian or\\nAlaska\\nNative    Asian  \\\n0                   2.115.381                              164.430   92.737   \n1                       4.778                              105.000   94.000   \n2                       5.376                              267.000  289.000   \n3                      36.187                              676.000  641.000   \n4                     100.393                                6.736    5.078   \n\n   Native\\nHawaiian\\nor Other\\nPacific\\nIslander Total.1 White.1  \\\n0                                         18.698   100,0    69,0   \n1                                         27.000   100,0    44,1   \n2                                         50.000   100,0    68,1   \n3                                        260.000   100,0    43,5   \n4                                          1.306   100,0    61,9   \n\n  Black or\\nAfrican\\nAmerican.1 American\\nIndian or\\nAlaska\\nNative.1 Asian.1  \\\n0                          27,4                                   2,1     1,2   \n1                          53,3                                   1,2     1,0   \n2                          28,6                                   1,4     1,5   \n3                          54,2                                   1,0     1,0   \n4                          33,7                                   2,3     1,7   \n\n  Native\\nHawaiian\\nor Other\\nPacific\\nIslander.1     Total2  \\\n0                                             0,2  6.343.684   \n1                                             0,3      7.050   \n2                                             0,3     15.316   \n3                                             0,4     57.048   \n4                                             0,4    254.614   \n\n  Hispanic\\nor\\nLatino Not\\nHispanic\\nor Latino Total.2  \\\n0            1.191.334                5.152.350   100,0   \n1                1.472                    5.578   100,0   \n2                4.090                   11.226   100,0   \n3               12.823                   44.225   100,0   \n4               65.056                  189.558   100,0   \n\n  Hispanic\\nor\\nLatino.1 Not\\nHispanic\\nor Latino.1  \n0                   18,8                       81,2  \n1                   20,9                       79,1  \n2                   26,7                       73,3  \n3                   22,5                       77,5  \n4                   25,6                       74,4  ",
      "text/html": "<div>\n<style scoped>\n    .dataframe tbody tr th:only-of-type {\n        vertical-align: middle;\n    }\n\n    .dataframe tbody tr th {\n        vertical-align: top;\n    }\n\n    .dataframe thead th {\n        text-align: right;\n    }\n</style>\n<table border=\"1\" class=\"dataframe\">\n  <thead>\n    <tr style=\"text-align: right;\">\n      <th></th>\n      <th>Offense charged</th>\n      <th>Total</th>\n      <th>White</th>\n      <th>Black or\\nAfrican\\nAmerican</th>\n      <th>American\\nIndian or\\nAlaska\\nNative</th>\n      <th>Asian</th>\n      <th>Native\\nHawaiian\\nor Other\\nPacific\\nIslander</th>\n      <th>Total.1</th>\n      <th>White.1</th>\n      <th>Black or\\nAfrican\\nAmerican.1</th>\n      <th>American\\nIndian or\\nAlaska\\nNative.1</th>\n      <th>Asian.1</th>\n      <th>Native\\nHawaiian\\nor Other\\nPacific\\nIslander.1</th>\n      <th>Total2</th>\n      <th>Hispanic\\nor\\nLatino</th>\n      <th>Not\\nHispanic\\nor Latino</th>\n      <th>Total.2</th>\n      <th>Hispanic\\nor\\nLatino.1</th>\n      <th>Not\\nHispanic\\nor Latino.1</th>\n    </tr>\n  </thead>\n  <tbody>\n    <tr>\n      <th>0</th>\n      <td>TOTAL</td>\n      <td>7.710.900</td>\n      <td>5.319.654</td>\n      <td>2.115.381</td>\n      <td>164.430</td>\n      <td>92.737</td>\n      <td>18.698</td>\n      <td>100,0</td>\n      <td>69,0</td>\n      <td>27,4</td>\n      <td>2,1</td>\n      <td>1,2</td>\n      <td>0,2</td>\n      <td>6.343.684</td>\n      <td>1.191.334</td>\n      <td>5.152.350</td>\n      <td>100,0</td>\n      <td>18,8</td>\n      <td>81,2</td>\n    </tr>\n    <tr>\n      <th>1</th>\n      <td>Murder and nonnegligent manslaughter</td>\n      <td>8.957</td>\n      <td>3.953</td>\n      <td>4.778</td>\n      <td>105.000</td>\n      <td>94.000</td>\n      <td>27.000</td>\n      <td>100,0</td>\n      <td>44,1</td>\n      <td>53,3</td>\n      <td>1,2</td>\n      <td>1,0</td>\n      <td>0,3</td>\n      <td>7.050</td>\n      <td>1.472</td>\n      <td>5.578</td>\n      <td>100,0</td>\n      <td>20,9</td>\n      <td>79,1</td>\n    </tr>\n    <tr>\n      <th>2</th>\n      <td>Rape3</td>\n      <td>18.776</td>\n      <td>12.794</td>\n      <td>5.376</td>\n      <td>267.000</td>\n      <td>289.000</td>\n      <td>50.000</td>\n      <td>100,0</td>\n      <td>68,1</td>\n      <td>28,6</td>\n      <td>1,4</td>\n      <td>1,5</td>\n      <td>0,3</td>\n      <td>15.316</td>\n      <td>4.090</td>\n      <td>11.226</td>\n      <td>100,0</td>\n      <td>26,7</td>\n      <td>73,3</td>\n    </tr>\n    <tr>\n      <th>3</th>\n      <td>Robbery</td>\n      <td>66.789</td>\n      <td>29.025</td>\n      <td>36.187</td>\n      <td>676.000</td>\n      <td>641.000</td>\n      <td>260.000</td>\n      <td>100,0</td>\n      <td>43,5</td>\n      <td>54,2</td>\n      <td>1,0</td>\n      <td>1,0</td>\n      <td>0,4</td>\n      <td>57.048</td>\n      <td>12.823</td>\n      <td>44.225</td>\n      <td>100,0</td>\n      <td>22,5</td>\n      <td>77,5</td>\n    </tr>\n    <tr>\n      <th>4</th>\n      <td>Aggravated assault</td>\n      <td>298.040</td>\n      <td>184.527</td>\n      <td>100.393</td>\n      <td>6.736</td>\n      <td>5.078</td>\n      <td>1.306</td>\n      <td>100,0</td>\n      <td>61,9</td>\n      <td>33,7</td>\n      <td>2,3</td>\n      <td>1,7</td>\n      <td>0,4</td>\n      <td>254.614</td>\n      <td>65.056</td>\n      <td>189.558</td>\n      <td>100,0</td>\n      <td>25,6</td>\n      <td>74,4</td>\n    </tr>\n  </tbody>\n</table>\n</div>"
     },
     "metadata": {},
     "execution_count": 4
    }
   ],
   "source": [
    "arrests.head()"
   ]
  },
  {
   "cell_type": "code",
   "execution_count": 5,
   "metadata": {},
   "outputs": [],
   "source": [
    "shootings['year'] = pd.to_datetime(shootings['date'], format='%Y-%m-%d').dt.year"
   ]
  },
  {
   "cell_type": "code",
   "execution_count": 6,
   "metadata": {},
   "outputs": [
    {
     "output_type": "execute_result",
     "data": {
      "text/plain": "   id                name        date   manner_of_death       armed   age  \\\n0   3          Tim Elliot  2015-01-02              shot         gun  53.0   \n1   4    Lewis Lee Lembke  2015-01-02              shot         gun  47.0   \n2   5  John Paul Quintero  2015-01-03  shot and Tasered     unarmed  23.0   \n3   8     Matthew Hoffman  2015-01-04              shot  toy weapon  32.0   \n4   9   Michael Rodriguez  2015-01-04              shot    nail gun  39.0   \n\n  gender race           city state  signs_of_mental_illness threat_level  \\\n0      M    A        Shelton    WA                     True       attack   \n1      M    W          Aloha    OR                    False       attack   \n2      M    H        Wichita    KS                    False        other   \n3      M    W  San Francisco    CA                     True       attack   \n4      M    H          Evans    CO                    False       attack   \n\n          flee  body_camera  year  \n0  Not fleeing        False  2015  \n1  Not fleeing        False  2015  \n2  Not fleeing        False  2015  \n3  Not fleeing        False  2015  \n4  Not fleeing        False  2015  ",
      "text/html": "<div>\n<style scoped>\n    .dataframe tbody tr th:only-of-type {\n        vertical-align: middle;\n    }\n\n    .dataframe tbody tr th {\n        vertical-align: top;\n    }\n\n    .dataframe thead th {\n        text-align: right;\n    }\n</style>\n<table border=\"1\" class=\"dataframe\">\n  <thead>\n    <tr style=\"text-align: right;\">\n      <th></th>\n      <th>id</th>\n      <th>name</th>\n      <th>date</th>\n      <th>manner_of_death</th>\n      <th>armed</th>\n      <th>age</th>\n      <th>gender</th>\n      <th>race</th>\n      <th>city</th>\n      <th>state</th>\n      <th>signs_of_mental_illness</th>\n      <th>threat_level</th>\n      <th>flee</th>\n      <th>body_camera</th>\n      <th>year</th>\n    </tr>\n  </thead>\n  <tbody>\n    <tr>\n      <th>0</th>\n      <td>3</td>\n      <td>Tim Elliot</td>\n      <td>2015-01-02</td>\n      <td>shot</td>\n      <td>gun</td>\n      <td>53.0</td>\n      <td>M</td>\n      <td>A</td>\n      <td>Shelton</td>\n      <td>WA</td>\n      <td>True</td>\n      <td>attack</td>\n      <td>Not fleeing</td>\n      <td>False</td>\n      <td>2015</td>\n    </tr>\n    <tr>\n      <th>1</th>\n      <td>4</td>\n      <td>Lewis Lee Lembke</td>\n      <td>2015-01-02</td>\n      <td>shot</td>\n      <td>gun</td>\n      <td>47.0</td>\n      <td>M</td>\n      <td>W</td>\n      <td>Aloha</td>\n      <td>OR</td>\n      <td>False</td>\n      <td>attack</td>\n      <td>Not fleeing</td>\n      <td>False</td>\n      <td>2015</td>\n    </tr>\n    <tr>\n      <th>2</th>\n      <td>5</td>\n      <td>John Paul Quintero</td>\n      <td>2015-01-03</td>\n      <td>shot and Tasered</td>\n      <td>unarmed</td>\n      <td>23.0</td>\n      <td>M</td>\n      <td>H</td>\n      <td>Wichita</td>\n      <td>KS</td>\n      <td>False</td>\n      <td>other</td>\n      <td>Not fleeing</td>\n      <td>False</td>\n      <td>2015</td>\n    </tr>\n    <tr>\n      <th>3</th>\n      <td>8</td>\n      <td>Matthew Hoffman</td>\n      <td>2015-01-04</td>\n      <td>shot</td>\n      <td>toy weapon</td>\n      <td>32.0</td>\n      <td>M</td>\n      <td>W</td>\n      <td>San Francisco</td>\n      <td>CA</td>\n      <td>True</td>\n      <td>attack</td>\n      <td>Not fleeing</td>\n      <td>False</td>\n      <td>2015</td>\n    </tr>\n    <tr>\n      <th>4</th>\n      <td>9</td>\n      <td>Michael Rodriguez</td>\n      <td>2015-01-04</td>\n      <td>shot</td>\n      <td>nail gun</td>\n      <td>39.0</td>\n      <td>M</td>\n      <td>H</td>\n      <td>Evans</td>\n      <td>CO</td>\n      <td>False</td>\n      <td>attack</td>\n      <td>Not fleeing</td>\n      <td>False</td>\n      <td>2015</td>\n    </tr>\n  </tbody>\n</table>\n</div>"
     },
     "metadata": {},
     "execution_count": 6
    }
   ],
   "source": [
    "shootings.head()"
   ]
  },
  {
   "cell_type": "code",
   "execution_count": 9,
   "metadata": {},
   "outputs": [
    {
     "output_type": "execute_result",
     "data": {
      "text/plain": "229"
     },
     "metadata": {},
     "execution_count": 9
    }
   ],
   "source": [
    "len(shootings[(shootings.year == 2018) & (shootings.race == 'B')])"
   ]
  },
  {
   "cell_type": "code",
   "execution_count": 10,
   "metadata": {},
   "outputs": [
    {
     "output_type": "execute_result",
     "data": {
      "text/plain": "451"
     },
     "metadata": {},
     "execution_count": 10
    }
   ],
   "source": [
    "len(shootings[(shootings.year == 2018) & (shootings.race == 'W')])"
   ]
  },
  {
   "cell_type": "code",
   "execution_count": 11,
   "metadata": {},
   "outputs": [
    {
     "output_type": "execute_result",
     "data": {
      "text/plain": "1265"
     },
     "metadata": {},
     "execution_count": 11
    }
   ],
   "source": [
    "len(shootings[shootings.race == 'B'])"
   ]
  },
  {
   "cell_type": "code",
   "execution_count": 12,
   "metadata": {},
   "outputs": [
    {
     "output_type": "execute_result",
     "data": {
      "text/plain": "2416"
     },
     "metadata": {},
     "execution_count": 12
    }
   ],
   "source": [
    "len(shootings[shootings.race == 'W'])"
   ]
  },
  {
   "cell_type": "code",
   "execution_count": 14,
   "metadata": {},
   "outputs": [
    {
     "output_type": "execute_result",
     "data": {
      "text/plain": "W    2416\nB    1265\nH     889\nA      93\nN      77\nO      47\nName: race, dtype: int64"
     },
     "metadata": {},
     "execution_count": 14
    }
   ],
   "source": [
    "shootings.race.value_counts()"
   ]
  },
  {
   "cell_type": "code",
   "execution_count": 15,
   "metadata": {},
   "outputs": [
    {
     "output_type": "execute_result",
     "data": {
      "text/plain": "W    451\nB    229\nH    165\nA     21\nN     15\nO      4\nName: race, dtype: int64"
     },
     "metadata": {},
     "execution_count": 15
    }
   ],
   "source": [
    "shootings[shootings.year == 2018].race.value_counts()"
   ]
  },
  {
   "cell_type": "code",
   "execution_count": null,
   "metadata": {},
   "outputs": [],
   "source": []
  }
 ],
 "metadata": {
  "language_info": {
   "codemirror_mode": {
    "name": "ipython",
    "version": 3
   },
   "file_extension": ".py",
   "mimetype": "text/x-python",
   "name": "python",
   "nbconvert_exporter": "python",
   "pygments_lexer": "ipython3",
   "version": "3.7.6-final"
  },
  "orig_nbformat": 2,
  "kernelspec": {
   "name": "python3",
   "display_name": "Python 3"
  }
 },
 "nbformat": 4,
 "nbformat_minor": 2
}