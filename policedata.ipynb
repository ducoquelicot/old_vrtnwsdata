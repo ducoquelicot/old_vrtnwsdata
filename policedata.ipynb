{
 "metadata": {
  "language_info": {
   "codemirror_mode": {
    "name": "ipython",
    "version": 3
   },
   "file_extension": ".py",
   "mimetype": "text/x-python",
   "name": "python",
   "nbconvert_exporter": "python",
   "pygments_lexer": "ipython3",
   "version": "3.8.1-final"
  },
  "orig_nbformat": 2,
  "kernelspec": {
   "name": "python3",
   "display_name": "Python 3.8.1 64-bit",
   "metadata": {
    "interpreter": {
     "hash": "aee8b7b246df8f9039afb4144a1f6fd8d2ca17a180786b69acc140d282b71a49"
    }
   }
  }
 },
 "nbformat": 4,
 "nbformat_minor": 2,
 "cells": [
  {
   "cell_type": "code",
   "execution_count": 26,
   "metadata": {},
   "outputs": [],
   "source": [
    "import pandas as pd\n",
    "from datetime import datetime as dt"
   ]
  },
  {
   "cell_type": "code",
   "execution_count": 27,
   "metadata": {},
   "outputs": [],
   "source": [
    "df = pd.read_csv('sfpolicedata.csv', parse_dates=['Date'])"
   ]
  },
  {
   "cell_type": "code",
   "execution_count": 28,
   "metadata": {},
   "outputs": [
    {
     "output_type": "stream",
     "name": "stdout",
     "text": [
      "<class 'pandas.core.frame.DataFrame'>\nRangeIndex: 2160953 entries, 0 to 2160952\nData columns (total 35 columns):\n #   Column                                                    Dtype         \n---  ------                                                    -----         \n 0   PdId                                                      int64         \n 1   IncidntNum                                                int64         \n 2   Incident Code                                             int64         \n 3   Category                                                  object        \n 4   Descript                                                  object        \n 5   DayOfWeek                                                 object        \n 6   Date                                                      datetime64[ns]\n 7   Time                                                      object        \n 8   PdDistrict                                                object        \n 9   Resolution                                                object        \n 10  Address                                                   object        \n 11  X                                                         float64       \n 12  Y                                                         float64       \n 13  location                                                  object        \n 14  SF Find Neighborhoods 2 2                                 float64       \n 15  Current Police Districts 2 2                              float64       \n 16  Current Supervisor Districts 2 2                          float64       \n 17  Analysis Neighborhoods 2 2                                float64       \n 18  DELETE - Fire Prevention Districts 2 2                    float64       \n 19  DELETE - Police Districts 2 2                             float64       \n 20  DELETE - Supervisor Districts 2 2                         float64       \n 21  DELETE - Zip Codes 2 2                                    float64       \n 22  DELETE - Neighborhoods 2 2                                float64       \n 23  DELETE - 2017 Fix It Zones 2 2                            float64       \n 24  Civic Center Harm Reduction Project Boundary 2 2          float64       \n 25  Fix It Zones as of 2017-11-06  2 2                        float64       \n 26  DELETE - HSOC Zones 2 2                                   float64       \n 27  Fix It Zones as of 2018-02-07 2 2                         float64       \n 28  CBD, BID and GBD Boundaries as of 2017 2 2                float64       \n 29  Areas of Vulnerability, 2016 2 2                          float64       \n 30  Central Market/Tenderloin Boundary 2 2                    float64       \n 31  Central Market/Tenderloin Boundary Polygon - Updated 2 2  float64       \n 32  HSOC Zones as of 2018-06-05 2 2                           float64       \n 33  OWED Public Spaces 2 2                                    float64       \n 34  Neighborhoods 2                                           float64       \ndtypes: datetime64[ns](1), float64(23), int64(3), object(8)\nmemory usage: 577.0+ MB\n"
     ]
    }
   ],
   "source": [
    "df.info()"
   ]
  },
  {
   "cell_type": "code",
   "execution_count": 7,
   "metadata": {},
   "outputs": [
    {
     "output_type": "execute_result",
     "data": {
      "text/plain": [
       "array(['VEHICLE THEFT', 'LARCENY/THEFT', 'OTHER OFFENSES', 'FRAUD',\n",
       "       'SEX OFFENSES, FORCIBLE', 'ASSAULT', 'NON-CRIMINAL', 'BURGLARY',\n",
       "       'LOITERING', 'ROBBERY', 'SUSPICIOUS OCC', 'FORGERY/COUNTERFEITING',\n",
       "       'DRUG/NARCOTIC', 'TRESPASS', 'VANDALISM', 'WARRANTS',\n",
       "       'SECONDARY CODES', 'WEAPON LAWS', 'MISSING PERSON', 'DRUNKENNESS',\n",
       "       'STOLEN PROPERTY', 'RECOVERED VEHICLE', 'PROSTITUTION', 'ARSON',\n",
       "       'EMBEZZLEMENT', 'LIQUOR LAWS', 'DISORDERLY CONDUCT',\n",
       "       'DRIVING UNDER THE INFLUENCE', 'KIDNAPPING', 'SUICIDE', 'BRIBERY',\n",
       "       'FAMILY OFFENSES', 'SEX OFFENSES, NON FORCIBLE', 'BAD CHECKS',\n",
       "       'GAMBLING', 'EXTORTION', 'PORNOGRAPHY/OBSCENE MAT', 'TREA'],\n",
       "      dtype=object)"
      ]
     },
     "metadata": {},
     "execution_count": 7
    }
   ],
   "source": [
    "df.Category.unique()"
   ]
  },
  {
   "cell_type": "code",
   "execution_count": 8,
   "metadata": {},
   "outputs": [],
   "source": [
    "categories = ['DRUNKENNESS', 'DRIVING UNDER THE INFLUENCE', 'KIDNAPPING']"
   ]
  },
  {
   "cell_type": "code",
   "execution_count": 29,
   "metadata": {},
   "outputs": [],
   "source": [
    "filtered = df[df.Category.isin(categories)]"
   ]
  },
  {
   "cell_type": "code",
   "execution_count": 30,
   "metadata": {},
   "outputs": [],
   "source": [
    "filt = filtered[['PdId', 'IncidntNum', 'Incident Code', 'Category', 'Descript', 'DayOfWeek', 'Date', 'Time', 'PdDistrict', 'Resolution', 'Address', 'X', 'Y', 'location']]"
   ]
  },
  {
   "cell_type": "code",
   "execution_count": 39,
   "metadata": {},
   "outputs": [],
   "source": [
    "filt['Year'] = pd.to_datetime(filt['Date'], format = '%Y,%m,%d').dt.year"
   ]
  },
  {
   "cell_type": "code",
   "execution_count": 42,
   "metadata": {},
   "outputs": [],
   "source": [
    "filt = filt[['PdId', 'IncidntNum', 'Incident Code', 'Category', 'Descript', 'DayOfWeek', 'Date', 'Year', 'Time', 'PdDistrict', 'Resolution', 'Address', 'X', 'Y', 'location']]"
   ]
  },
  {
   "cell_type": "code",
   "execution_count": 44,
   "metadata": {},
   "outputs": [],
   "source": [
    "filt.to_csv('sfpolicedata_subset.csv', index=False)"
   ]
  },
  {
   "cell_type": "code",
   "execution_count": null,
   "metadata": {},
   "outputs": [],
   "source": []
  }
 ]
}