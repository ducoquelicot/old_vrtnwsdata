{
 "cells": [
  {
   "cell_type": "code",
   "execution_count": 1,
   "metadata": {},
   "outputs": [],
   "source": [
    "import pandas as pd"
   ]
  },
  {
   "cell_type": "code",
   "execution_count": 4,
   "metadata": {},
   "outputs": [],
   "source": [
    "deaths = pd.read_csv('mortality.csv', sep=';')"
   ]
  },
  {
   "cell_type": "code",
   "execution_count": 5,
   "metadata": {},
   "outputs": [
    {
     "output_type": "stream",
     "name": "stdout",
     "text": "<class 'pandas.core.frame.DataFrame'>\nRangeIndex: 678635 entries, 0 to 678634\nData columns (total 9 columns):\n #   Column  Non-Null Count   Dtype \n---  ------  --------------   ----- \n 0   arr     678635 non-null  int64 \n 1   prov    678635 non-null  int64 \n 2   region  678635 non-null  int64 \n 3   sex     678635 non-null  int64 \n 4   age     678635 non-null  object\n 5   date    678635 non-null  object\n 6   year    678635 non-null  int64 \n 7   week    678635 non-null  object\n 8   deaths  678635 non-null  int64 \ndtypes: int64(6), object(3)\nmemory usage: 46.6+ MB\n"
    }
   ],
   "source": [
    "deaths.info()"
   ]
  },
  {
   "cell_type": "code",
   "execution_count": 6,
   "metadata": {},
   "outputs": [
    {
     "output_type": "execute_result",
     "data": {
      "text/plain": "     arr   prov  region  sex    age        date  year      week  deaths\n0  11000  10000    2000    1  45-64  01/01/2009  2009  2009-W01       3\n1  11000  10000    2000    1  65-74  01/01/2009  2009  2009-W01       3\n2  11000  10000    2000    1  75-84  01/01/2009  2009  2009-W01       6\n3  11000  10000    2000    1    85+  01/01/2009  2009  2009-W01       5\n4  11000  10000    2000    2  65-74  01/01/2009  2009  2009-W01       1",
      "text/html": "<div>\n<style scoped>\n    .dataframe tbody tr th:only-of-type {\n        vertical-align: middle;\n    }\n\n    .dataframe tbody tr th {\n        vertical-align: top;\n    }\n\n    .dataframe thead th {\n        text-align: right;\n    }\n</style>\n<table border=\"1\" class=\"dataframe\">\n  <thead>\n    <tr style=\"text-align: right;\">\n      <th></th>\n      <th>arr</th>\n      <th>prov</th>\n      <th>region</th>\n      <th>sex</th>\n      <th>age</th>\n      <th>date</th>\n      <th>year</th>\n      <th>week</th>\n      <th>deaths</th>\n    </tr>\n  </thead>\n  <tbody>\n    <tr>\n      <th>0</th>\n      <td>11000</td>\n      <td>10000</td>\n      <td>2000</td>\n      <td>1</td>\n      <td>45-64</td>\n      <td>01/01/2009</td>\n      <td>2009</td>\n      <td>2009-W01</td>\n      <td>3</td>\n    </tr>\n    <tr>\n      <th>1</th>\n      <td>11000</td>\n      <td>10000</td>\n      <td>2000</td>\n      <td>1</td>\n      <td>65-74</td>\n      <td>01/01/2009</td>\n      <td>2009</td>\n      <td>2009-W01</td>\n      <td>3</td>\n    </tr>\n    <tr>\n      <th>2</th>\n      <td>11000</td>\n      <td>10000</td>\n      <td>2000</td>\n      <td>1</td>\n      <td>75-84</td>\n      <td>01/01/2009</td>\n      <td>2009</td>\n      <td>2009-W01</td>\n      <td>6</td>\n    </tr>\n    <tr>\n      <th>3</th>\n      <td>11000</td>\n      <td>10000</td>\n      <td>2000</td>\n      <td>1</td>\n      <td>85+</td>\n      <td>01/01/2009</td>\n      <td>2009</td>\n      <td>2009-W01</td>\n      <td>5</td>\n    </tr>\n    <tr>\n      <th>4</th>\n      <td>11000</td>\n      <td>10000</td>\n      <td>2000</td>\n      <td>2</td>\n      <td>65-74</td>\n      <td>01/01/2009</td>\n      <td>2009</td>\n      <td>2009-W01</td>\n      <td>1</td>\n    </tr>\n  </tbody>\n</table>\n</div>"
     },
     "metadata": {},
     "execution_count": 6
    }
   ],
   "source": [
    "deaths.head()"
   ]
  },
  {
   "cell_type": "code",
   "execution_count": 7,
   "metadata": {},
   "outputs": [
    {
     "output_type": "execute_result",
     "data": {
      "text/plain": "Empty DataFrame\nColumns: [arr, prov, region, sex, age, date, year, week, deaths]\nIndex: []",
      "text/html": "<div>\n<style scoped>\n    .dataframe tbody tr th:only-of-type {\n        vertical-align: middle;\n    }\n\n    .dataframe tbody tr th {\n        vertical-align: top;\n    }\n\n    .dataframe thead th {\n        text-align: right;\n    }\n</style>\n<table border=\"1\" class=\"dataframe\">\n  <thead>\n    <tr style=\"text-align: right;\">\n      <th></th>\n      <th>arr</th>\n      <th>prov</th>\n      <th>region</th>\n      <th>sex</th>\n      <th>age</th>\n      <th>date</th>\n      <th>year</th>\n      <th>week</th>\n      <th>deaths</th>\n    </tr>\n  </thead>\n  <tbody>\n  </tbody>\n</table>\n</div>"
     },
     "metadata": {},
     "execution_count": 7
    }
   ],
   "source": [
    "deaths[deaths.duplicated()]"
   ]
  },
  {
   "cell_type": "code",
   "execution_count": 9,
   "metadata": {},
   "outputs": [
    {
     "output_type": "execute_result",
     "data": {
      "text/plain": "array([11000, 12000, 13000, 23000, 24000, 31000, 32000, 33000, 34000,\n       35000, 36000, 37000, 38000, 41000, 42000, 43000, 44000, 45000,\n       46000, 71000, 72000, 73000, 25000, 51000, 52000, 53000, 55000,\n       56000, 57000, 58000, 61000, 62000, 63000, 64000, 81000, 82000,\n       83000, 84000, 85000, 91000, 92000, 93000, 21000])"
     },
     "metadata": {},
     "execution_count": 9
    }
   ],
   "source": [
    "deaths.arr.unique()"
   ]
  },
  {
   "cell_type": "code",
   "execution_count": 13,
   "metadata": {},
   "outputs": [],
   "source": [
    "g = deaths.groupby('arr')"
   ]
  },
  {
   "cell_type": "code",
   "execution_count": null,
   "metadata": {},
   "outputs": [],
   "source": [
    "g.apply(lambda x: x[(x[\"date\"].str.contains('01/03'))])"
   ]
  }
 ],
 "metadata": {
  "language_info": {
   "codemirror_mode": {
    "name": "ipython",
    "version": 3
   },
   "file_extension": ".py",
   "mimetype": "text/x-python",
   "name": "python",
   "nbconvert_exporter": "python",
   "pygments_lexer": "ipython3",
   "version": "3.7.6-final"
  },
  "orig_nbformat": 2,
  "kernelspec": {
   "name": "python3",
   "display_name": "Python 3"
  }
 },
 "nbformat": 4,
 "nbformat_minor": 2
}