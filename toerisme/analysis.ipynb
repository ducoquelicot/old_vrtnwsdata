{
 "cells": [
  {
   "cell_type": "code",
   "execution_count": 2,
   "metadata": {},
   "outputs": [],
   "source": [
    "import pandas as pd"
   ]
  },
  {
   "cell_type": "code",
   "execution_count": 3,
   "metadata": {},
   "outputs": [],
   "source": [
    "reviews = pd.read_csv('reviews.csv')"
   ]
  },
  {
   "cell_type": "code",
   "execution_count": 4,
   "metadata": {
    "tags": []
   },
   "outputs": [
    {
     "output_type": "stream",
     "name": "stdout",
     "text": "<class 'pandas.core.frame.DataFrame'>\nRangeIndex: 259103 entries, 0 to 259102\nData columns (total 3 columns):\n #   Column            Non-Null Count   Dtype \n---  ------            --------------   ----- \n 0   locatie           259103 non-null  object\n 1   attractie         259103 non-null  object\n 2   locatie_reviewer  259093 non-null  object\ndtypes: object(3)\nmemory usage: 5.9+ MB\n"
    }
   ],
   "source": [
    "reviews.info()"
   ]
  },
  {
   "cell_type": "code",
   "execution_count": 5,
   "metadata": {},
   "outputs": [
    {
     "output_type": "execute_result",
     "data": {
      "text/plain": "   locatie              attractie    locatie_reviewer\n0  Brussel  Grote Markt (Brussel)    Overijse, België\n1  Brussel  Grote Markt (Brussel)     Bergamo, Italië\n2  Brussel  Grote Markt (Brussel)   Rijsel, Frankrijk\n3  Brussel  Grote Markt (Brussel)    Chicago vicinity\n4  Brussel  Grote Markt (Brussel)  Liedekerke, België",
      "text/html": "<div>\n<style scoped>\n    .dataframe tbody tr th:only-of-type {\n        vertical-align: middle;\n    }\n\n    .dataframe tbody tr th {\n        vertical-align: top;\n    }\n\n    .dataframe thead th {\n        text-align: right;\n    }\n</style>\n<table border=\"1\" class=\"dataframe\">\n  <thead>\n    <tr style=\"text-align: right;\">\n      <th></th>\n      <th>locatie</th>\n      <th>attractie</th>\n      <th>locatie_reviewer</th>\n    </tr>\n  </thead>\n  <tbody>\n    <tr>\n      <th>0</th>\n      <td>Brussel</td>\n      <td>Grote Markt (Brussel)</td>\n      <td>Overijse, België</td>\n    </tr>\n    <tr>\n      <th>1</th>\n      <td>Brussel</td>\n      <td>Grote Markt (Brussel)</td>\n      <td>Bergamo, Italië</td>\n    </tr>\n    <tr>\n      <th>2</th>\n      <td>Brussel</td>\n      <td>Grote Markt (Brussel)</td>\n      <td>Rijsel, Frankrijk</td>\n    </tr>\n    <tr>\n      <th>3</th>\n      <td>Brussel</td>\n      <td>Grote Markt (Brussel)</td>\n      <td>Chicago vicinity</td>\n    </tr>\n    <tr>\n      <th>4</th>\n      <td>Brussel</td>\n      <td>Grote Markt (Brussel)</td>\n      <td>Liedekerke, België</td>\n    </tr>\n  </tbody>\n</table>\n</div>"
     },
     "metadata": {},
     "execution_count": 5
    }
   ],
   "source": [
    "reviews.head()"
   ]
  },
  {
   "cell_type": "code",
   "execution_count": 6,
   "metadata": {},
   "outputs": [],
   "source": [
    "reviews = reviews.dropna()"
   ]
  },
  {
   "cell_type": "code",
   "execution_count": 7,
   "metadata": {},
   "outputs": [],
   "source": [
    "head = reviews.head()"
   ]
  },
  {
   "cell_type": "code",
   "execution_count": 13,
   "metadata": {
    "tags": []
   },
   "outputs": [],
   "source": [
    "import requests\n",
    "column = []\n",
    "for index, row in head.iterrows():\n",
    "    locatie = row['locatie']\n",
    "    reviewers = row['locatie_reviewer']\n",
    "    url = 'https://nl.afstand.org/route.json?stops={}|{}'.format(locatie, reviewers)\n",
    "    response = requests.get(url)\n",
    "    distance = response.json()\n",
    "    column.append(distance['distance'])"
   ]
  },
  {
   "cell_type": "code",
   "execution_count": 8,
   "metadata": {},
   "outputs": [
    {
     "output_type": "execute_result",
     "data": {
      "text/plain": "26178"
     },
     "metadata": {},
     "execution_count": 8
    }
   ],
   "source": [
    "len(reviews[~reviews.locatie_reviewer.str.contains(',', regex=False)])"
   ]
  },
  {
   "cell_type": "code",
   "execution_count": 9,
   "metadata": {},
   "outputs": [
    {
     "output_type": "execute_result",
     "data": {
      "text/plain": "          locatie                          attractie locatie_reviewer\n12683     Brussel              Grote Markt (Brussel)          Antwerp\n22401     Brussel             Koninklijk Legermuseum        Antwerpen\n24428     Brussel             Koninklijk Legermuseum        Antwerpen\n31654     Brussel  Les Galeries Royales Saint-Hubert          Antwerp\n34938     Brussel  Les Galeries Royales Saint-Hubert          Antwerp\n...           ...                                ...              ...\n253208  Antwerpen  Sint-Annatunnel Voetgangerstunnel        Antwerpen\n253381  Antwerpen  Sint-Annatunnel Voetgangerstunnel          Antwerp\n253416  Antwerpen  Sint-Annatunnel Voetgangerstunnel          Antwerp\n253459  Antwerpen  Sint-Annatunnel Voetgangerstunnel        Antwerpen\n255523   Kortrijk                      K in Kortrijk        Antwerpen\n\n[281 rows x 3 columns]",
      "text/html": "<div>\n<style scoped>\n    .dataframe tbody tr th:only-of-type {\n        vertical-align: middle;\n    }\n\n    .dataframe tbody tr th {\n        vertical-align: top;\n    }\n\n    .dataframe thead th {\n        text-align: right;\n    }\n</style>\n<table border=\"1\" class=\"dataframe\">\n  <thead>\n    <tr style=\"text-align: right;\">\n      <th></th>\n      <th>locatie</th>\n      <th>attractie</th>\n      <th>locatie_reviewer</th>\n    </tr>\n  </thead>\n  <tbody>\n    <tr>\n      <th>12683</th>\n      <td>Brussel</td>\n      <td>Grote Markt (Brussel)</td>\n      <td>Antwerp</td>\n    </tr>\n    <tr>\n      <th>22401</th>\n      <td>Brussel</td>\n      <td>Koninklijk Legermuseum</td>\n      <td>Antwerpen</td>\n    </tr>\n    <tr>\n      <th>24428</th>\n      <td>Brussel</td>\n      <td>Koninklijk Legermuseum</td>\n      <td>Antwerpen</td>\n    </tr>\n    <tr>\n      <th>31654</th>\n      <td>Brussel</td>\n      <td>Les Galeries Royales Saint-Hubert</td>\n      <td>Antwerp</td>\n    </tr>\n    <tr>\n      <th>34938</th>\n      <td>Brussel</td>\n      <td>Les Galeries Royales Saint-Hubert</td>\n      <td>Antwerp</td>\n    </tr>\n    <tr>\n      <th>...</th>\n      <td>...</td>\n      <td>...</td>\n      <td>...</td>\n    </tr>\n    <tr>\n      <th>253208</th>\n      <td>Antwerpen</td>\n      <td>Sint-Annatunnel Voetgangerstunnel</td>\n      <td>Antwerpen</td>\n    </tr>\n    <tr>\n      <th>253381</th>\n      <td>Antwerpen</td>\n      <td>Sint-Annatunnel Voetgangerstunnel</td>\n      <td>Antwerp</td>\n    </tr>\n    <tr>\n      <th>253416</th>\n      <td>Antwerpen</td>\n      <td>Sint-Annatunnel Voetgangerstunnel</td>\n      <td>Antwerp</td>\n    </tr>\n    <tr>\n      <th>253459</th>\n      <td>Antwerpen</td>\n      <td>Sint-Annatunnel Voetgangerstunnel</td>\n      <td>Antwerpen</td>\n    </tr>\n    <tr>\n      <th>255523</th>\n      <td>Kortrijk</td>\n      <td>K in Kortrijk</td>\n      <td>Antwerpen</td>\n    </tr>\n  </tbody>\n</table>\n<p>281 rows × 3 columns</p>\n</div>"
     },
     "metadata": {},
     "execution_count": 9
    }
   ],
   "source": [
    "reviews[(~reviews.locatie_reviewer.str.contains(',')) & (reviews.locatie_reviewer.str.contains('Antwerp'))]"
   ]
  },
  {
   "cell_type": "code",
   "execution_count": 12,
   "metadata": {},
   "outputs": [],
   "source": [
    "reviews['local'] = reviews.locatie_reviewer.str.contains(str(reviews.locatie))"
   ]
  },
  {
   "cell_type": "code",
   "execution_count": 13,
   "metadata": {},
   "outputs": [
    {
     "output_type": "execute_result",
     "data": {
      "text/plain": "   locatie              attractie    locatie_reviewer  local\n0  Brussel  Grote Markt (Brussel)    Overijse, België  False\n1  Brussel  Grote Markt (Brussel)     Bergamo, Italië  False\n2  Brussel  Grote Markt (Brussel)   Rijsel, Frankrijk  False\n3  Brussel  Grote Markt (Brussel)    Chicago vicinity  False\n4  Brussel  Grote Markt (Brussel)  Liedekerke, België  False",
      "text/html": "<div>\n<style scoped>\n    .dataframe tbody tr th:only-of-type {\n        vertical-align: middle;\n    }\n\n    .dataframe tbody tr th {\n        vertical-align: top;\n    }\n\n    .dataframe thead th {\n        text-align: right;\n    }\n</style>\n<table border=\"1\" class=\"dataframe\">\n  <thead>\n    <tr style=\"text-align: right;\">\n      <th></th>\n      <th>locatie</th>\n      <th>attractie</th>\n      <th>locatie_reviewer</th>\n      <th>local</th>\n    </tr>\n  </thead>\n  <tbody>\n    <tr>\n      <th>0</th>\n      <td>Brussel</td>\n      <td>Grote Markt (Brussel)</td>\n      <td>Overijse, België</td>\n      <td>False</td>\n    </tr>\n    <tr>\n      <th>1</th>\n      <td>Brussel</td>\n      <td>Grote Markt (Brussel)</td>\n      <td>Bergamo, Italië</td>\n      <td>False</td>\n    </tr>\n    <tr>\n      <th>2</th>\n      <td>Brussel</td>\n      <td>Grote Markt (Brussel)</td>\n      <td>Rijsel, Frankrijk</td>\n      <td>False</td>\n    </tr>\n    <tr>\n      <th>3</th>\n      <td>Brussel</td>\n      <td>Grote Markt (Brussel)</td>\n      <td>Chicago vicinity</td>\n      <td>False</td>\n    </tr>\n    <tr>\n      <th>4</th>\n      <td>Brussel</td>\n      <td>Grote Markt (Brussel)</td>\n      <td>Liedekerke, België</td>\n      <td>False</td>\n    </tr>\n  </tbody>\n</table>\n</div>"
     },
     "metadata": {},
     "execution_count": 13
    }
   ],
   "source": [
    "reviews.head()"
   ]
  },
  {
   "cell_type": "code",
   "execution_count": 20,
   "metadata": {},
   "outputs": [
    {
     "output_type": "execute_result",
     "data": {
      "text/plain": "locatie\nAalst           169\nAdinkerke        16\nAntwerpen     25251\nBeringen        185\nBeveren          35\n              ...  \nWillebroek      317\nZaventem          2\nZeebrugge        60\nZonnebeke      1332\nZutendaal       213\nLength: 69, dtype: int64"
     },
     "metadata": {},
     "execution_count": 20
    }
   ],
   "source": [
    "reviews.groupby('locatie').apply(lambda x: (x['local'] == True).count())"
   ]
  },
  {
   "cell_type": "code",
   "execution_count": 21,
   "metadata": {},
   "outputs": [
    {
     "output_type": "execute_result",
     "data": {
      "text/plain": "       locatie          attractie                 locatie_reviewer  local\n204115   Aalst          Stadspark                    Aalst, België  False\n204116   Aalst          Stadspark                 Haaltert, België  False\n204117   Aalst          Stadspark                    Aalst, België  False\n204118   Aalst          Stadspark                    Aalst, België  False\n204119   Aalst          Stadspark                    Aalst, België  False\n...        ...                ...                              ...    ...\n230310   Aalst  Sint-Martinuskerk              Erembodegem, België  False\n230311   Aalst  Sint-Martinuskerk  Aalst, Oost-Vlaanderen, Belgium  False\n230312   Aalst  Sint-Martinuskerk                            Aalst  False\n230313   Aalst  Sint-Martinuskerk                            aalst  False\n230314   Aalst  Sint-Martinuskerk                    Aalst, België  False\n\n[169 rows x 4 columns]",
      "text/html": "<div>\n<style scoped>\n    .dataframe tbody tr th:only-of-type {\n        vertical-align: middle;\n    }\n\n    .dataframe tbody tr th {\n        vertical-align: top;\n    }\n\n    .dataframe thead th {\n        text-align: right;\n    }\n</style>\n<table border=\"1\" class=\"dataframe\">\n  <thead>\n    <tr style=\"text-align: right;\">\n      <th></th>\n      <th>locatie</th>\n      <th>attractie</th>\n      <th>locatie_reviewer</th>\n      <th>local</th>\n    </tr>\n  </thead>\n  <tbody>\n    <tr>\n      <th>204115</th>\n      <td>Aalst</td>\n      <td>Stadspark</td>\n      <td>Aalst, België</td>\n      <td>False</td>\n    </tr>\n    <tr>\n      <th>204116</th>\n      <td>Aalst</td>\n      <td>Stadspark</td>\n      <td>Haaltert, België</td>\n      <td>False</td>\n    </tr>\n    <tr>\n      <th>204117</th>\n      <td>Aalst</td>\n      <td>Stadspark</td>\n      <td>Aalst, België</td>\n      <td>False</td>\n    </tr>\n    <tr>\n      <th>204118</th>\n      <td>Aalst</td>\n      <td>Stadspark</td>\n      <td>Aalst, België</td>\n      <td>False</td>\n    </tr>\n    <tr>\n      <th>204119</th>\n      <td>Aalst</td>\n      <td>Stadspark</td>\n      <td>Aalst, België</td>\n      <td>False</td>\n    </tr>\n    <tr>\n      <th>...</th>\n      <td>...</td>\n      <td>...</td>\n      <td>...</td>\n      <td>...</td>\n    </tr>\n    <tr>\n      <th>230310</th>\n      <td>Aalst</td>\n      <td>Sint-Martinuskerk</td>\n      <td>Erembodegem, België</td>\n      <td>False</td>\n    </tr>\n    <tr>\n      <th>230311</th>\n      <td>Aalst</td>\n      <td>Sint-Martinuskerk</td>\n      <td>Aalst, Oost-Vlaanderen, Belgium</td>\n      <td>False</td>\n    </tr>\n    <tr>\n      <th>230312</th>\n      <td>Aalst</td>\n      <td>Sint-Martinuskerk</td>\n      <td>Aalst</td>\n      <td>False</td>\n    </tr>\n    <tr>\n      <th>230313</th>\n      <td>Aalst</td>\n      <td>Sint-Martinuskerk</td>\n      <td>aalst</td>\n      <td>False</td>\n    </tr>\n    <tr>\n      <th>230314</th>\n      <td>Aalst</td>\n      <td>Sint-Martinuskerk</td>\n      <td>Aalst, België</td>\n      <td>False</td>\n    </tr>\n  </tbody>\n</table>\n<p>169 rows × 4 columns</p>\n</div>"
     },
     "metadata": {},
     "execution_count": 21
    }
   ],
   "source": [
    "reviews[reviews.locatie == 'Aalst']"
   ]
  },
  {
   "cell_type": "code",
   "execution_count": null,
   "metadata": {},
   "outputs": [],
   "source": []
  }
 ],
 "metadata": {
  "language_info": {
   "codemirror_mode": {
    "name": "ipython",
    "version": 3
   },
   "file_extension": ".py",
   "mimetype": "text/x-python",
   "name": "python",
   "nbconvert_exporter": "python",
   "pygments_lexer": "ipython3",
   "version": "3.7.6-final"
  },
  "orig_nbformat": 2,
  "kernelspec": {
   "name": "python3",
   "display_name": "Python 3"
  }
 },
 "nbformat": 4,
 "nbformat_minor": 2
}