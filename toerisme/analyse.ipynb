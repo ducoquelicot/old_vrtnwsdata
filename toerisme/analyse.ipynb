{
 "cells": [
  {
   "cell_type": "code",
   "execution_count": 370,
   "metadata": {},
   "outputs": [],
   "source": [
    "import pandas as pd"
   ]
  },
  {
   "cell_type": "code",
   "execution_count": 371,
   "metadata": {},
   "outputs": [],
   "source": [
    "reviews = pd.read_csv('reviews.csv')\n",
    "attracties = pd.read_csv('attracties.csv')"
   ]
  },
  {
   "cell_type": "code",
   "execution_count": 372,
   "metadata": {},
   "outputs": [],
   "source": [
    "pd.set_option('display.max_rows', 30)"
   ]
  },
  {
   "cell_type": "code",
   "execution_count": 373,
   "metadata": {
    "tags": []
   },
   "outputs": [
    {
     "output_type": "stream",
     "name": "stdout",
     "text": "<class 'pandas.core.frame.DataFrame'>\nRangeIndex: 2959 entries, 0 to 2958\nData columns (total 4 columns):\n #   Column          Non-Null Count  Dtype  \n---  ------          --------------  -----  \n 0   locatie         2959 non-null   object \n 1   attractie       2959 non-null   object \n 2   aantal_reviews  2959 non-null   int64  \n 3   rating          2959 non-null   float64\ndtypes: float64(1), int64(1), object(2)\nmemory usage: 92.6+ KB\n"
    }
   ],
   "source": [
    "attracties.info()"
   ]
  },
  {
   "cell_type": "code",
   "execution_count": 374,
   "metadata": {},
   "outputs": [
    {
     "output_type": "execute_result",
     "data": {
      "text/plain": "Empty DataFrame\nColumns: [locatie, attractie, aantal_reviews, rating]\nIndex: []",
      "text/html": "<div>\n<style scoped>\n    .dataframe tbody tr th:only-of-type {\n        vertical-align: middle;\n    }\n\n    .dataframe tbody tr th {\n        vertical-align: top;\n    }\n\n    .dataframe thead th {\n        text-align: right;\n    }\n</style>\n<table border=\"1\" class=\"dataframe\">\n  <thead>\n    <tr style=\"text-align: right;\">\n      <th></th>\n      <th>locatie</th>\n      <th>attractie</th>\n      <th>aantal_reviews</th>\n      <th>rating</th>\n    </tr>\n  </thead>\n  <tbody>\n  </tbody>\n</table>\n</div>"
     },
     "metadata": {},
     "execution_count": 374
    }
   ],
   "source": [
    "attracties[(attracties.duplicated()) & (attracties.locatie != 'Onbekende locatie') & (attracties.attractie != 'Onbekende attractie')]"
   ]
  },
  {
   "cell_type": "code",
   "execution_count": 375,
   "metadata": {},
   "outputs": [
    {
     "output_type": "execute_result",
     "data": {
      "text/plain": "2895"
     },
     "metadata": {},
     "execution_count": 375
    }
   ],
   "source": [
    "attracties.attractie.nunique()"
   ]
  },
  {
   "cell_type": "code",
   "execution_count": 376,
   "metadata": {
    "tags": []
   },
   "outputs": [
    {
     "output_type": "stream",
     "name": "stdout",
     "text": "<class 'pandas.core.frame.DataFrame'>\nRangeIndex: 362407 entries, 0 to 362406\nData columns (total 3 columns):\n #   Column            Non-Null Count   Dtype \n---  ------            --------------   ----- \n 0   locatie           362407 non-null  object\n 1   attractie         362407 non-null  object\n 2   locatie_reviewer  362398 non-null  object\ndtypes: object(3)\nmemory usage: 8.3+ MB\n"
    }
   ],
   "source": [
    "reviews.info()"
   ]
  },
  {
   "cell_type": "code",
   "execution_count": 377,
   "metadata": {},
   "outputs": [
    {
     "output_type": "execute_result",
     "data": {
      "text/plain": "   locatie              attractie    locatie_reviewer\n0  Brussel  Grote Markt (Brussel)    Overijse, België\n1  Brussel  Grote Markt (Brussel)     Bergamo, Italië\n2  Brussel  Grote Markt (Brussel)   Rijsel, Frankrijk\n3  Brussel  Grote Markt (Brussel)    Chicago vicinity\n4  Brussel  Grote Markt (Brussel)  Liedekerke, België",
      "text/html": "<div>\n<style scoped>\n    .dataframe tbody tr th:only-of-type {\n        vertical-align: middle;\n    }\n\n    .dataframe tbody tr th {\n        vertical-align: top;\n    }\n\n    .dataframe thead th {\n        text-align: right;\n    }\n</style>\n<table border=\"1\" class=\"dataframe\">\n  <thead>\n    <tr style=\"text-align: right;\">\n      <th></th>\n      <th>locatie</th>\n      <th>attractie</th>\n      <th>locatie_reviewer</th>\n    </tr>\n  </thead>\n  <tbody>\n    <tr>\n      <th>0</th>\n      <td>Brussel</td>\n      <td>Grote Markt (Brussel)</td>\n      <td>Overijse, België</td>\n    </tr>\n    <tr>\n      <th>1</th>\n      <td>Brussel</td>\n      <td>Grote Markt (Brussel)</td>\n      <td>Bergamo, Italië</td>\n    </tr>\n    <tr>\n      <th>2</th>\n      <td>Brussel</td>\n      <td>Grote Markt (Brussel)</td>\n      <td>Rijsel, Frankrijk</td>\n    </tr>\n    <tr>\n      <th>3</th>\n      <td>Brussel</td>\n      <td>Grote Markt (Brussel)</td>\n      <td>Chicago vicinity</td>\n    </tr>\n    <tr>\n      <th>4</th>\n      <td>Brussel</td>\n      <td>Grote Markt (Brussel)</td>\n      <td>Liedekerke, België</td>\n    </tr>\n  </tbody>\n</table>\n</div>"
     },
     "metadata": {},
     "execution_count": 377
    }
   ],
   "source": [
    "reviews.head()"
   ]
  },
  {
   "cell_type": "code",
   "execution_count": 378,
   "metadata": {},
   "outputs": [],
   "source": [
    "reviews = reviews.dropna()"
   ]
  },
  {
   "cell_type": "code",
   "execution_count": 379,
   "metadata": {},
   "outputs": [],
   "source": [
    "reviews['local'] = reviews.apply(lambda x: x.locatie.casefold() in x.locatie_reviewer.casefold(), axis=1)"
   ]
  },
  {
   "cell_type": "code",
   "execution_count": 380,
   "metadata": {},
   "outputs": [
    {
     "output_type": "execute_result",
     "data": {
      "text/plain": "     locatie              attractie locatie_reviewer  local\n10   Brussel  Grote Markt (Brussel)  Brussel, België   True\n83   Brussel  Grote Markt (Brussel)  Brussel, België   True\n93   Brussel  Grote Markt (Brussel)  Brussel, België   True\n99   Brussel  Grote Markt (Brussel)  Brussel, België   True\n110  Brussel  Grote Markt (Brussel)  Brussel, België   True",
      "text/html": "<div>\n<style scoped>\n    .dataframe tbody tr th:only-of-type {\n        vertical-align: middle;\n    }\n\n    .dataframe tbody tr th {\n        vertical-align: top;\n    }\n\n    .dataframe thead th {\n        text-align: right;\n    }\n</style>\n<table border=\"1\" class=\"dataframe\">\n  <thead>\n    <tr style=\"text-align: right;\">\n      <th></th>\n      <th>locatie</th>\n      <th>attractie</th>\n      <th>locatie_reviewer</th>\n      <th>local</th>\n    </tr>\n  </thead>\n  <tbody>\n    <tr>\n      <th>10</th>\n      <td>Brussel</td>\n      <td>Grote Markt (Brussel)</td>\n      <td>Brussel, België</td>\n      <td>True</td>\n    </tr>\n    <tr>\n      <th>83</th>\n      <td>Brussel</td>\n      <td>Grote Markt (Brussel)</td>\n      <td>Brussel, België</td>\n      <td>True</td>\n    </tr>\n    <tr>\n      <th>93</th>\n      <td>Brussel</td>\n      <td>Grote Markt (Brussel)</td>\n      <td>Brussel, België</td>\n      <td>True</td>\n    </tr>\n    <tr>\n      <th>99</th>\n      <td>Brussel</td>\n      <td>Grote Markt (Brussel)</td>\n      <td>Brussel, België</td>\n      <td>True</td>\n    </tr>\n    <tr>\n      <th>110</th>\n      <td>Brussel</td>\n      <td>Grote Markt (Brussel)</td>\n      <td>Brussel, België</td>\n      <td>True</td>\n    </tr>\n  </tbody>\n</table>\n</div>"
     },
     "metadata": {},
     "execution_count": 380
    }
   ],
   "source": [
    "reviews[reviews.local == True].head()"
   ]
  },
  {
   "cell_type": "code",
   "execution_count": 381,
   "metadata": {},
   "outputs": [
    {
     "output_type": "execute_result",
     "data": {
      "text/plain": "545"
     },
     "metadata": {},
     "execution_count": 381
    }
   ],
   "source": [
    "reviews.locatie.nunique()"
   ]
  },
  {
   "cell_type": "code",
   "execution_count": 382,
   "metadata": {},
   "outputs": [
    {
     "output_type": "execute_result",
     "data": {
      "text/plain": "array(['Brussel', 'Brugge', 'Antwerpen', 'Gent', 'Oostende', 'Leuven',\n       'Ieper (Ypres)', 'Hasselt', 'Mechelen', 'Blankenberge', 'De Panne',\n       'Kortrijk', 'Knokke-Heist', 'Tongeren', 'Genk', 'Lommel',\n       'Maasmechelen', 'Zeebrugge', 'Onbekende locatie', 'Nieuwpoort',\n       'De Haan', 'Vlezenbeek', 'Tessenderlo', 'Mol', 'Vlaams-Brabant',\n       'Halle', 'Groot-Bijgaarden', 'Roeselare', 'Koksijde',\n       'Middelkerke', 'Aalst', 'Lichtaart', 'Oostduinkerke',\n       'Sint-Niklaas', 'Lier', 'Sint-Truiden', 'Bredene', 'Adinkerke',\n       'Oudenaarde', 'Wijnegem', 'Poperinge', 'Machelen', 'Borgloon',\n       'Beveren', 'Dilbeek', 'Willebroek', 'Knokke', 'Maaseik',\n       'Turnhout', 'Geel', 'Diksmuide', 'Beringen', 'Boom', 'Zutendaal',\n       'Geraardsbergen', 'Grimbergen', 'Houthalen', 'Dadizele', 'Bilzen',\n       'Veurne', 'Menen', 'Brasschaat', 'Peer', 'Herentals', 'Lanaken',\n       'Zaventem', 'Damme', 'Westvleteren', 'Zonnebeke', 'Edegem',\n       'Heusden-Zolder', 'Riemst', 'Londerzeel', 'Meise', 'Diest',\n       'Dendermonde', 'Destelbergen', 'Kasterlee', 'Watou', 'Stekene',\n       'Tervuren', 'Gaasbeek', 'Deinze', 'Puurs', 'Zillebeke', 'Werchter',\n       'Tongerlo', 'Dessel', 'Maldegem', 'Heuvelland', 'Torhout', 'Olmen',\n       'Waregem', 'Grobbendonk', 'Ronse', 'Beersel', 'Wetteren', 'Lillo',\n       'Landen', 'Kalmthout', 'Tienen', 'Lochristi', 'Avelgem', 'Kanne',\n       'Wilrijk', 'Eeklo', 'Zonhoven', 'Sint-Pieters-Voeren',\n       'Hoogstraten', 'Sint-Pieters-Leeuw', 'Schoten', 'Lokeren',\n       'Heist-op-den-Berg', 'Kapellen', 'Zoutleeuw', 'Lille', 'Kemmel',\n       'Aarschot', 'Essen', 'Heverlee', 'Overpelt', 'Gierle', 'Beervelde',\n       'Ekeren', 'Sint-Martens-Latem', 'Ninove', 'Berlare', 'Vleteren',\n       'Stabroek', 'Wachtebeke', 'Bornem', 'Overijse', 'Lo-Reninge',\n       'Neerpelt', 'Westouter', 'Rhode-Saint-Genese', 'Izegem',\n       'Baarle-Hertog', 'Wevelgem', 'Bocholt', 'Brecht', 'Zolder',\n       'Jabbeke', 'Zwevegem', 'Wilderen', 'Sint-Michiels', 'Mortsel',\n       'Melle', 'Laakdal', 'Gistel', 'Leopoldsburg', 'Westerlo', 'Lennik',\n       'Hingene', 'Temse', 'Passendale', 'Opoeteren', 'Hamme', 'Ursel',\n       'Oostkamp', 'Borsbeek', 'Merksplas', 'Lissewege', 'Gullegem',\n       'Oosterzele', 'Brakel', 'Koksijde Bad', 'Balen', 'Koersel',\n       'Helchteren', 'Kampenhout', 'Zottegem', 'Kaulille', 'Langemark',\n       'Koekelare', 'Buggenhout', 'Hoegaarden', 'Tielt Winge',\n       'Dranouter', 'Alveringem', 'Tielt', 'Kluisbergen-Ruien',\n       'Zedelgem', 'Wortegem-Petegem', 'Kallo', 'Teuven', 'Merelbeke',\n       'Hamont-Achel', 'Kinrooi', 'Dworp', 'Hoeselt',\n       'Sint-Katelijne-Waver', 'Beernem', 'Holsbeek', 'Tremelo', 'Aalter',\n       'Hechtel-Eksel', 'Boezinge', 'Drogenbos', 'Neeroeteren',\n       'Averbode', 'Drongen', 'Duffel', 'Kruishoutem', 'Haacht',\n       'Herselt', 'Harelbeke', 'Zoersel', 'Wijtschate', 'Diepenbeek',\n       'Hulst', 'Alken', 'Meeuwen-Gruitrode', 'Wezembeek-Oppem',\n       'Scherpenheuvel', 'Keiem', 'Oudenburg', 'Erembodegem',\n       'Keerbergen', 'Sint Andries', 'Houthulst', 'Lummen', 'Poppel',\n       'Wervik', 'Hemiksem', 'Sint-Amands', 'Rekem', 'Kraainem',\n       'Blaasveld', 'Mesen', 'Herk-de-Stad', 'Asse', 'Ternat', 'Roosdaal',\n       'Zwalm', 'Haaltert', 'Strombeek-Bever', 'Rumbeke', 'Oostmalle',\n       'Ename', 'Vorselaar', 'Gooik', 'Bellegem', 'Deurle', 'Alsemberg',\n       'Merksem', 'Berlaar', 'Nevele', 'Vosselaar', 'Assenede', 'Hove',\n       'Sint-Laureins', 'Wakken', 'Anzegem', 'Poelkapelle', 'Lozer',\n       'Zuienkerke', 'Knesselare', 'Oostvleteren', 'Denderleeuw',\n       'Itterbeek', 'Herzele', 'Hooglede', 'Halen', 'Oud-Heverlee',\n       'Lembeke', 'Beselare', 'Heule', 'Pittem', 'Tildonk', 'Waarschoot',\n       'Borlo', 'Oeselgem', 'Bonheiden', 'Hofstade', 'Oordegem',\n       'Ruiselede', 'Linter', 'Herenthout', 'Vlissegem', 'Kaprijke',\n       'Sint-Genesius-Rode', 'Meersel', 'Gors-Opleeuw', 'Dentergem',\n       'Zichem', 'Boekhoute', 'Oevel', 'De Pinte', 'Vlamertinge',\n       'Zandvoorde', 'Steenhuffel', 'As', 'Moerzeke', 'Sint-Pieters-Rode',\n       'Bever', 'Poeke', 'Moerbrugge', 'Meer', 'Welle', 'Waterloo',\n       'Wavre', 'La Roche-en-Ardenne', 'Mons', 'Durbuy', 'Dinant',\n       'Vielsalm', 'Spa', 'Chimay', 'Luik', 'Stavelot',\n       'Hainaut Province', 'Han-sur-Lesse', 'Rochefort', 'Huy', 'Tournai',\n       'Verviers', 'Charleroi', 'Coo', 'Namen', 'Louvain-la-Neuve',\n       'Bastogne', 'Provincie Luik', 'Brugelette', 'Francorchamps',\n       'Arlon', \"Braine-l'Alleud\", 'Belgisch Luxemburg', 'Houffalize',\n       'Froidchapelle', 'Eupen', 'Saint-Hubert', 'Waimes', 'Lasne',\n       'Messancy', 'Manhay', 'Marche-en-Famenne', 'Hotton', 'Ovifat',\n       'La Hulpe', 'Chaudfontaine', 'Barvaux', 'Theux', 'Nivelles',\n       'La Louviere', 'Mouscron', 'Transinne', 'Couvin',\n       'Vresse-sur-Semois', 'Malmedy', 'Eben-Emael', 'Butgenbach',\n       'Bouillon', 'Sougne-Remouchamps', 'Alle-sur-Semois', 'Thuin',\n       'Jalhay', 'Nonceveux', 'Nismes', 'Comines-Warneton', 'Genval',\n       'Rochehaut', 'Achouffe', 'Ottignies-Louvain-la-Neuve', 'Falaen',\n       'Ciney', 'Chevetogne', 'Trois Ponts', 'Neufchateau', 'Aywaille',\n       'Virton', 'Braine-Le-Comte', 'Hockai', 'Seraing', 'Enghien',\n       'Mariembourg', 'Redu', 'Houyet', 'Gouvy', 'Denee', 'St Vith',\n       'Aubel', 'Libramont', 'Libin', 'La Gleize', 'Ploegsteert',\n       'Ferrieres', 'Ath', 'Gembloux', 'Bievre', 'Florenville', 'Beloeil',\n       'Villers-la-ville', 'Florenvill', 'Banneux', 'Orval',\n       'Annevoie-Rouillon', 'Beauraing', 'Sourbrodt', 'Yvoir', 'Ans',\n       'Esneux', 'Dour', 'Rendeux', 'Blegny', 'Ellezelles', 'Gerpinnes',\n       'Vise', 'Modave', 'Amay', 'Philippeville', 'Fosses-la-Ville',\n       'Braives', 'Lessines', 'Anhée', 'Flemalle', 'Pipaix', 'Herbeumont',\n       'Gosselies', 'Crupet', 'Andenne', 'Walcourt', 'Jodoigne',\n       'Seneffe', 'Comblain-au-Pont', 'Temploux', 'Spy', 'Le Roeulx',\n       'Louette-St-Pierre', 'Tellin', 'Waremme', 'Herve', 'Frameries',\n       'Mirwart', 'Jemeppe-sur-Sambre', 'Treignes', 'Wepion', 'Floreffe',\n       'Lavaux-Sainte-Anne', 'Genappe', 'Henri-Chapelle',\n       'Leuze-en-Hainaut', 'Weris', 'Battice', 'Peruwelz',\n       'Belgische Ardennen', 'Boussu', 'Corbion sur Semois', 'Basecles',\n       'Soumagne', 'Binche', 'Jambes', 'Courcelles', 'Helecine',\n       'Hastiere-Lavaux', 'Florennes', 'Mettet', 'Assesse', 'Soignies',\n       'Herstal', 'Wanze', 'Buellingen', 'Thimister-Clermont',\n       'Pepinster', 'Celles', 'Falmignoul', 'Fleurus', 'Waulsort',\n       'Dalhem', 'Nandrin', 'Maredret', 'Saint-Ghislain', 'Laken',\n       'Houdeng-Goegnies', 'Bernissart', 'Lustin', 'Izier',\n       'Bouvignes-sur-Meuse', 'Morlanwelz', 'Quievrain', 'Montleban',\n       'Loverval', 'Neupre', 'Rebecq Rognon', 'Ittre', 'Chatelet',\n       'Maissin', 'Raeren', 'Barchon', 'Flobecq', 'Chassepierre',\n       'Braine-Le-Chateau', 'Forge-Philippe', 'Recogne (Bastogne)',\n       'Embourg', 'Xhoris', 'Ambleve', 'Aiseau-Presles',\n       'Jemeppe-sur-Meuse', 'Ecaussinnes', 'Fexhe-le-Haut-Clocher',\n       'Ligneuville', 'Vierves-sur-Viroin', 'Frasnes-lez-Buissenal',\n       'Chievres', 'Lobbes', 'Romeree', 'Perwez', 'Etalle', 'Olne',\n       'Salmchateau', 'Emines', 'Ohey', 'Antoing', 'Focant', 'Ragnies',\n       'Bleharies', 'Noville', 'Sohier', 'Houx', 'Boussu-lez-Walcourt',\n       'Natoye', 'Juprelle', 'Ghlin', 'Latour', 'Moresnet-Chapelle',\n       'Ligny', 'Wiers', 'Barbencon', 'Sivry', 'Colfontaine', 'Jumet',\n       'Chastre', 'Rouvroy', 'Bierges', 'Leglise', 'La Calamine',\n       'Meix-devant-Virton', 'Hensies', 'Saint-Mard', 'Boncelles',\n       'Racour', 'Recogne (Neufchateau)', 'Oupeye', 'Grâce-Hollogne'],\n      dtype=object)"
     },
     "metadata": {},
     "execution_count": 382
    }
   ],
   "source": [
    "reviews.locatie.unique()"
   ]
  },
  {
   "cell_type": "code",
   "execution_count": 383,
   "metadata": {},
   "outputs": [],
   "source": [
    "reviews.loc[(reviews.locatie == 'Brussel') & (reviews.locatie_reviewer.str.contains('Bruxelles')), \"local\"] = True"
   ]
  },
  {
   "cell_type": "code",
   "execution_count": 384,
   "metadata": {},
   "outputs": [],
   "source": [
    "reviews.loc[(reviews.locatie == 'Brussel') & (reviews.locatie_reviewer.str.contains('bruxelles')), \"local\"] = True"
   ]
  },
  {
   "cell_type": "code",
   "execution_count": 385,
   "metadata": {},
   "outputs": [],
   "source": [
    "reviews.loc[(reviews.locatie == 'Brugge') & (reviews.locatie_reviewer.str.contains('Bruges')), \"local\"] = True"
   ]
  },
  {
   "cell_type": "code",
   "execution_count": 386,
   "metadata": {},
   "outputs": [],
   "source": [
    "reviews.loc[(reviews.locatie == 'Brugge') & (reviews.locatie_reviewer.str.contains('bruges')), \"local\"] = True"
   ]
  },
  {
   "cell_type": "code",
   "execution_count": 387,
   "metadata": {},
   "outputs": [],
   "source": [
    "reviews.loc[(reviews.locatie == 'Antwerpen') & (reviews.locatie_reviewer.str.contains('Antwerp')) & (reviews.local == False), \"local\"] = True"
   ]
  },
  {
   "cell_type": "code",
   "execution_count": 388,
   "metadata": {},
   "outputs": [],
   "source": [
    "reviews.loc[(reviews.locatie == 'Antwerpen') & (reviews.locatie_reviewer.str.contains('Anvers')), \"local\"] = True"
   ]
  },
  {
   "cell_type": "code",
   "execution_count": 389,
   "metadata": {},
   "outputs": [],
   "source": [
    "reviews.loc[(reviews.locatie == 'Antwerpen') & (reviews.locatie_reviewer.str.contains('anvers')), \"local\"] = True"
   ]
  },
  {
   "cell_type": "code",
   "execution_count": 390,
   "metadata": {},
   "outputs": [],
   "source": [
    "reviews.loc[(reviews.locatie == 'Gent') & (reviews.locatie_reviewer.str.contains('Ghent')), \"local\"] = True"
   ]
  },
  {
   "cell_type": "code",
   "execution_count": 391,
   "metadata": {},
   "outputs": [],
   "source": [
    "reviews.loc[(reviews.locatie == 'Gent') & (reviews.locatie_reviewer.str.contains('ghent')), \"local\"] = True"
   ]
  },
  {
   "cell_type": "code",
   "execution_count": 392,
   "metadata": {},
   "outputs": [],
   "source": [
    "reviews.loc[(reviews.locatie == 'Oostende') & (reviews.locatie_reviewer.str.contains('Ostend')), \"local\"] = True"
   ]
  },
  {
   "cell_type": "code",
   "execution_count": 393,
   "metadata": {},
   "outputs": [],
   "source": [
    "reviews.loc[(reviews.locatie == 'Leuven') & (reviews.locatie_reviewer == 'Louvain'), \"local\"] = True"
   ]
  },
  {
   "cell_type": "code",
   "execution_count": 394,
   "metadata": {},
   "outputs": [],
   "source": [
    "reviews.loc[(reviews.locatie == 'Leuven') & (reviews.locatie_reviewer == 'louvain'), \"local\"] = True"
   ]
  },
  {
   "cell_type": "code",
   "execution_count": 395,
   "metadata": {},
   "outputs": [],
   "source": [
    "reviews.loc[(reviews.locatie == 'Ieper (Ypres)') & (reviews.locatie_reviewer.str.contains('Ieper')) & (reviews.local == False), \"local\"] = True"
   ]
  },
  {
   "cell_type": "code",
   "execution_count": 396,
   "metadata": {},
   "outputs": [],
   "source": [
    "reviews.loc[(reviews.locatie == 'Ieper (Ypres)') & (reviews.locatie_reviewer.str.contains('Ypres')) & (reviews.local == False), 'local'] = True"
   ]
  },
  {
   "cell_type": "code",
   "execution_count": 397,
   "metadata": {},
   "outputs": [
    {
     "output_type": "execute_result",
     "data": {
      "text/plain": "Empty DataFrame\nColumns: [locatie, attractie, locatie_reviewer, local]\nIndex: []",
      "text/html": "<div>\n<style scoped>\n    .dataframe tbody tr th:only-of-type {\n        vertical-align: middle;\n    }\n\n    .dataframe tbody tr th {\n        vertical-align: top;\n    }\n\n    .dataframe thead th {\n        text-align: right;\n    }\n</style>\n<table border=\"1\" class=\"dataframe\">\n  <thead>\n    <tr style=\"text-align: right;\">\n      <th></th>\n      <th>locatie</th>\n      <th>attractie</th>\n      <th>locatie_reviewer</th>\n      <th>local</th>\n    </tr>\n  </thead>\n  <tbody>\n  </tbody>\n</table>\n</div>"
     },
     "metadata": {},
     "execution_count": 397
    }
   ],
   "source": [
    "reviews[(reviews.locatie == 'Mechelen') & (reviews.locatie_reviewer.str.contains('Malines'))]"
   ]
  },
  {
   "cell_type": "code",
   "execution_count": 398,
   "metadata": {},
   "outputs": [
    {
     "output_type": "execute_result",
     "data": {
      "text/plain": "Empty DataFrame\nColumns: [locatie, attractie, locatie_reviewer, local]\nIndex: []",
      "text/html": "<div>\n<style scoped>\n    .dataframe tbody tr th:only-of-type {\n        vertical-align: middle;\n    }\n\n    .dataframe tbody tr th {\n        vertical-align: top;\n    }\n\n    .dataframe thead th {\n        text-align: right;\n    }\n</style>\n<table border=\"1\" class=\"dataframe\">\n  <thead>\n    <tr style=\"text-align: right;\">\n      <th></th>\n      <th>locatie</th>\n      <th>attractie</th>\n      <th>locatie_reviewer</th>\n      <th>local</th>\n    </tr>\n  </thead>\n  <tbody>\n  </tbody>\n</table>\n</div>"
     },
     "metadata": {},
     "execution_count": 398
    }
   ],
   "source": [
    "reviews[(reviews.locatie == 'De Panne') & (reviews.locatie_reviewer.str.contains('Panne')) & (reviews.local == False)]"
   ]
  },
  {
   "cell_type": "code",
   "execution_count": 399,
   "metadata": {},
   "outputs": [
    {
     "output_type": "execute_result",
     "data": {
      "text/plain": "Empty DataFrame\nColumns: [locatie, attractie, locatie_reviewer, local]\nIndex: []",
      "text/html": "<div>\n<style scoped>\n    .dataframe tbody tr th:only-of-type {\n        vertical-align: middle;\n    }\n\n    .dataframe tbody tr th {\n        vertical-align: top;\n    }\n\n    .dataframe thead th {\n        text-align: right;\n    }\n</style>\n<table border=\"1\" class=\"dataframe\">\n  <thead>\n    <tr style=\"text-align: right;\">\n      <th></th>\n      <th>locatie</th>\n      <th>attractie</th>\n      <th>locatie_reviewer</th>\n      <th>local</th>\n    </tr>\n  </thead>\n  <tbody>\n  </tbody>\n</table>\n</div>"
     },
     "metadata": {},
     "execution_count": 399
    }
   ],
   "source": [
    "reviews[(reviews.locatie == 'Kortrijk') & (reviews.locatie_reviewer.str.contains('Courtrai')) & (reviews.local == False)]"
   ]
  },
  {
   "cell_type": "code",
   "execution_count": 400,
   "metadata": {},
   "outputs": [
    {
     "output_type": "execute_result",
     "data": {
      "text/plain": "Empty DataFrame\nColumns: [locatie, attractie, locatie_reviewer, local]\nIndex: []",
      "text/html": "<div>\n<style scoped>\n    .dataframe tbody tr th:only-of-type {\n        vertical-align: middle;\n    }\n\n    .dataframe tbody tr th {\n        vertical-align: top;\n    }\n\n    .dataframe thead th {\n        text-align: right;\n    }\n</style>\n<table border=\"1\" class=\"dataframe\">\n  <thead>\n    <tr style=\"text-align: right;\">\n      <th></th>\n      <th>locatie</th>\n      <th>attractie</th>\n      <th>locatie_reviewer</th>\n      <th>local</th>\n    </tr>\n  </thead>\n  <tbody>\n  </tbody>\n</table>\n</div>"
     },
     "metadata": {},
     "execution_count": 400
    }
   ],
   "source": [
    "reviews[(reviews.locatie == 'Tongeren') & (reviews.locatie_reviewer.str.contains('Tongres')) & (reviews.local == False)]"
   ]
  },
  {
   "cell_type": "code",
   "execution_count": 401,
   "metadata": {},
   "outputs": [
    {
     "output_type": "execute_result",
     "data": {
      "text/plain": "Empty DataFrame\nColumns: [locatie, attractie, locatie_reviewer, local]\nIndex: []",
      "text/html": "<div>\n<style scoped>\n    .dataframe tbody tr th:only-of-type {\n        vertical-align: middle;\n    }\n\n    .dataframe tbody tr th {\n        vertical-align: top;\n    }\n\n    .dataframe thead th {\n        text-align: right;\n    }\n</style>\n<table border=\"1\" class=\"dataframe\">\n  <thead>\n    <tr style=\"text-align: right;\">\n      <th></th>\n      <th>locatie</th>\n      <th>attractie</th>\n      <th>locatie_reviewer</th>\n      <th>local</th>\n    </tr>\n  </thead>\n  <tbody>\n  </tbody>\n</table>\n</div>"
     },
     "metadata": {},
     "execution_count": 401
    }
   ],
   "source": [
    "reviews[(reviews.locatie == 'Nieuwpoort') & (reviews.locatie_reviewer.str.contains('Nieuport')) & (reviews.local == False)]"
   ]
  },
  {
   "cell_type": "code",
   "execution_count": 402,
   "metadata": {},
   "outputs": [
    {
     "output_type": "execute_result",
     "data": {
      "text/plain": "Empty DataFrame\nColumns: [locatie, attractie, locatie_reviewer, local]\nIndex: []",
      "text/html": "<div>\n<style scoped>\n    .dataframe tbody tr th:only-of-type {\n        vertical-align: middle;\n    }\n\n    .dataframe tbody tr th {\n        vertical-align: top;\n    }\n\n    .dataframe thead th {\n        text-align: right;\n    }\n</style>\n<table border=\"1\" class=\"dataframe\">\n  <thead>\n    <tr style=\"text-align: right;\">\n      <th></th>\n      <th>locatie</th>\n      <th>attractie</th>\n      <th>locatie_reviewer</th>\n      <th>local</th>\n    </tr>\n  </thead>\n  <tbody>\n  </tbody>\n</table>\n</div>"
     },
     "metadata": {},
     "execution_count": 402
    }
   ],
   "source": [
    "reviews[(reviews.locatie == 'De Haan') & (reviews.locatie_reviewer.str.contains('coq-sur-mer')) & (reviews.local == False)]"
   ]
  },
  {
   "cell_type": "code",
   "execution_count": 403,
   "metadata": {},
   "outputs": [],
   "source": [
    "reviews = reviews.replace('Vlaams-Brabant', 'Beersel')"
   ]
  },
  {
   "cell_type": "code",
   "execution_count": 404,
   "metadata": {},
   "outputs": [
    {
     "output_type": "execute_result",
     "data": {
      "text/plain": "Empty DataFrame\nColumns: [locatie, attractie, locatie_reviewer, local]\nIndex: []",
      "text/html": "<div>\n<style scoped>\n    .dataframe tbody tr th:only-of-type {\n        vertical-align: middle;\n    }\n\n    .dataframe tbody tr th {\n        vertical-align: top;\n    }\n\n    .dataframe thead th {\n        text-align: right;\n    }\n</style>\n<table border=\"1\" class=\"dataframe\">\n  <thead>\n    <tr style=\"text-align: right;\">\n      <th></th>\n      <th>locatie</th>\n      <th>attractie</th>\n      <th>locatie_reviewer</th>\n      <th>local</th>\n    </tr>\n  </thead>\n  <tbody>\n  </tbody>\n</table>\n</div>"
     },
     "metadata": {},
     "execution_count": 404
    }
   ],
   "source": [
    "reviews[(reviews.locatie == 'Groot-Bijgaarden') & (reviews.locatie_reviewer.str.contains('Grand-Bigard')) & (reviews.local == False)]"
   ]
  },
  {
   "cell_type": "code",
   "execution_count": 405,
   "metadata": {},
   "outputs": [
    {
     "output_type": "execute_result",
     "data": {
      "text/plain": "Empty DataFrame\nColumns: [locatie, attractie, locatie_reviewer, local]\nIndex: []",
      "text/html": "<div>\n<style scoped>\n    .dataframe tbody tr th:only-of-type {\n        vertical-align: middle;\n    }\n\n    .dataframe tbody tr th {\n        vertical-align: top;\n    }\n\n    .dataframe thead th {\n        text-align: right;\n    }\n</style>\n<table border=\"1\" class=\"dataframe\">\n  <thead>\n    <tr style=\"text-align: right;\">\n      <th></th>\n      <th>locatie</th>\n      <th>attractie</th>\n      <th>locatie_reviewer</th>\n      <th>local</th>\n    </tr>\n  </thead>\n  <tbody>\n  </tbody>\n</table>\n</div>"
     },
     "metadata": {},
     "execution_count": 405
    }
   ],
   "source": [
    "reviews[(reviews.locatie == 'Roeselare') & (reviews.locatie_reviewer.str.contains('Roulers')) & (reviews.local == False)]"
   ]
  },
  {
   "cell_type": "code",
   "execution_count": 406,
   "metadata": {},
   "outputs": [
    {
     "output_type": "execute_result",
     "data": {
      "text/plain": "Empty DataFrame\nColumns: [locatie, attractie, locatie_reviewer, local]\nIndex: []",
      "text/html": "<div>\n<style scoped>\n    .dataframe tbody tr th:only-of-type {\n        vertical-align: middle;\n    }\n\n    .dataframe tbody tr th {\n        vertical-align: top;\n    }\n\n    .dataframe thead th {\n        text-align: right;\n    }\n</style>\n<table border=\"1\" class=\"dataframe\">\n  <thead>\n    <tr style=\"text-align: right;\">\n      <th></th>\n      <th>locatie</th>\n      <th>attractie</th>\n      <th>locatie_reviewer</th>\n      <th>local</th>\n    </tr>\n  </thead>\n  <tbody>\n  </tbody>\n</table>\n</div>"
     },
     "metadata": {},
     "execution_count": 406
    }
   ],
   "source": [
    "reviews[(reviews.locatie == 'Koksijde') & (reviews.locatie_reviewer.str.contains('Coxyde')) & (reviews.local == False)]"
   ]
  },
  {
   "cell_type": "code",
   "execution_count": 407,
   "metadata": {},
   "outputs": [
    {
     "output_type": "execute_result",
     "data": {
      "text/plain": "Empty DataFrame\nColumns: [locatie, attractie, locatie_reviewer, local]\nIndex: []",
      "text/html": "<div>\n<style scoped>\n    .dataframe tbody tr th:only-of-type {\n        vertical-align: middle;\n    }\n\n    .dataframe tbody tr th {\n        vertical-align: top;\n    }\n\n    .dataframe thead th {\n        text-align: right;\n    }\n</style>\n<table border=\"1\" class=\"dataframe\">\n  <thead>\n    <tr style=\"text-align: right;\">\n      <th></th>\n      <th>locatie</th>\n      <th>attractie</th>\n      <th>locatie_reviewer</th>\n      <th>local</th>\n    </tr>\n  </thead>\n  <tbody>\n  </tbody>\n</table>\n</div>"
     },
     "metadata": {},
     "execution_count": 407
    }
   ],
   "source": [
    "reviews[(reviews.locatie == 'Aalst') & (reviews.locatie_reviewer.str.contains('Alost')) & (reviews.local == False)]"
   ]
  },
  {
   "cell_type": "code",
   "execution_count": 408,
   "metadata": {},
   "outputs": [
    {
     "output_type": "execute_result",
     "data": {
      "text/plain": "Empty DataFrame\nColumns: [locatie, attractie, locatie_reviewer, local]\nIndex: []",
      "text/html": "<div>\n<style scoped>\n    .dataframe tbody tr th:only-of-type {\n        vertical-align: middle;\n    }\n\n    .dataframe tbody tr th {\n        vertical-align: top;\n    }\n\n    .dataframe thead th {\n        text-align: right;\n    }\n</style>\n<table border=\"1\" class=\"dataframe\">\n  <thead>\n    <tr style=\"text-align: right;\">\n      <th></th>\n      <th>locatie</th>\n      <th>attractie</th>\n      <th>locatie_reviewer</th>\n      <th>local</th>\n    </tr>\n  </thead>\n  <tbody>\n  </tbody>\n</table>\n</div>"
     },
     "metadata": {},
     "execution_count": 408
    }
   ],
   "source": [
    "reviews[(reviews.locatie == 'Sint-Niklaas') & (reviews.locatie_reviewer.str.contains('Saint-Nicolas')) & (reviews.local == False)]"
   ]
  },
  {
   "cell_type": "code",
   "execution_count": 409,
   "metadata": {},
   "outputs": [
    {
     "output_type": "execute_result",
     "data": {
      "text/plain": "Empty DataFrame\nColumns: [locatie, attractie, locatie_reviewer, local]\nIndex: []",
      "text/html": "<div>\n<style scoped>\n    .dataframe tbody tr th:only-of-type {\n        vertical-align: middle;\n    }\n\n    .dataframe tbody tr th {\n        vertical-align: top;\n    }\n\n    .dataframe thead th {\n        text-align: right;\n    }\n</style>\n<table border=\"1\" class=\"dataframe\">\n  <thead>\n    <tr style=\"text-align: right;\">\n      <th></th>\n      <th>locatie</th>\n      <th>attractie</th>\n      <th>locatie_reviewer</th>\n      <th>local</th>\n    </tr>\n  </thead>\n  <tbody>\n  </tbody>\n</table>\n</div>"
     },
     "metadata": {},
     "execution_count": 409
    }
   ],
   "source": [
    "reviews[(reviews.locatie == 'Lier') & (reviews.locatie_reviewer.str.contains('Lierre')) & (reviews.local == False)]"
   ]
  },
  {
   "cell_type": "code",
   "execution_count": 410,
   "metadata": {},
   "outputs": [
    {
     "output_type": "execute_result",
     "data": {
      "text/plain": "Empty DataFrame\nColumns: [locatie, attractie, locatie_reviewer, local]\nIndex: []",
      "text/html": "<div>\n<style scoped>\n    .dataframe tbody tr th:only-of-type {\n        vertical-align: middle;\n    }\n\n    .dataframe tbody tr th {\n        vertical-align: top;\n    }\n\n    .dataframe thead th {\n        text-align: right;\n    }\n</style>\n<table border=\"1\" class=\"dataframe\">\n  <thead>\n    <tr style=\"text-align: right;\">\n      <th></th>\n      <th>locatie</th>\n      <th>attractie</th>\n      <th>locatie_reviewer</th>\n      <th>local</th>\n    </tr>\n  </thead>\n  <tbody>\n  </tbody>\n</table>\n</div>"
     },
     "metadata": {},
     "execution_count": 410
    }
   ],
   "source": [
    "reviews[(reviews.locatie == 'Sint-Truiden') & (reviews.locatie_reviewer.str.contains('Saint-Trond')) & (reviews.local == False)]"
   ]
  },
  {
   "cell_type": "code",
   "execution_count": 411,
   "metadata": {},
   "outputs": [
    {
     "output_type": "execute_result",
     "data": {
      "text/plain": "Empty DataFrame\nColumns: [locatie, attractie, locatie_reviewer, local]\nIndex: []",
      "text/html": "<div>\n<style scoped>\n    .dataframe tbody tr th:only-of-type {\n        vertical-align: middle;\n    }\n\n    .dataframe tbody tr th {\n        vertical-align: top;\n    }\n\n    .dataframe thead th {\n        text-align: right;\n    }\n</style>\n<table border=\"1\" class=\"dataframe\">\n  <thead>\n    <tr style=\"text-align: right;\">\n      <th></th>\n      <th>locatie</th>\n      <th>attractie</th>\n      <th>locatie_reviewer</th>\n      <th>local</th>\n    </tr>\n  </thead>\n  <tbody>\n  </tbody>\n</table>\n</div>"
     },
     "metadata": {},
     "execution_count": 411
    }
   ],
   "source": [
    "reviews[(reviews.locatie == 'Oudenaarde') & (reviews.locatie_reviewer.str.contains('Audenaerde')) & (reviews.local == False)]"
   ]
  },
  {
   "cell_type": "code",
   "execution_count": 412,
   "metadata": {},
   "outputs": [
    {
     "output_type": "execute_result",
     "data": {
      "text/plain": "Empty DataFrame\nColumns: [locatie, attractie, locatie_reviewer, local]\nIndex: []",
      "text/html": "<div>\n<style scoped>\n    .dataframe tbody tr th:only-of-type {\n        vertical-align: middle;\n    }\n\n    .dataframe tbody tr th {\n        vertical-align: top;\n    }\n\n    .dataframe thead th {\n        text-align: right;\n    }\n</style>\n<table border=\"1\" class=\"dataframe\">\n  <thead>\n    <tr style=\"text-align: right;\">\n      <th></th>\n      <th>locatie</th>\n      <th>attractie</th>\n      <th>locatie_reviewer</th>\n      <th>local</th>\n    </tr>\n  </thead>\n  <tbody>\n  </tbody>\n</table>\n</div>"
     },
     "metadata": {},
     "execution_count": 412
    }
   ],
   "source": [
    "reviews[(reviews.locatie == 'Borgloon') & (reviews.locatie_reviewer.str.contains('Looz')) & (reviews.local == False)]"
   ]
  },
  {
   "cell_type": "code",
   "execution_count": 413,
   "metadata": {},
   "outputs": [
    {
     "output_type": "execute_result",
     "data": {
      "text/plain": "Empty DataFrame\nColumns: [locatie, attractie, locatie_reviewer, local]\nIndex: []",
      "text/html": "<div>\n<style scoped>\n    .dataframe tbody tr th:only-of-type {\n        vertical-align: middle;\n    }\n\n    .dataframe tbody tr th {\n        vertical-align: top;\n    }\n\n    .dataframe thead th {\n        text-align: right;\n    }\n</style>\n<table border=\"1\" class=\"dataframe\">\n  <thead>\n    <tr style=\"text-align: right;\">\n      <th></th>\n      <th>locatie</th>\n      <th>attractie</th>\n      <th>locatie_reviewer</th>\n      <th>local</th>\n    </tr>\n  </thead>\n  <tbody>\n  </tbody>\n</table>\n</div>"
     },
     "metadata": {},
     "execution_count": 413
    }
   ],
   "source": [
    "reviews[(reviews.locatie == 'Diksmuide') & (reviews.locatie_reviewer.str.contains('Dixmude')) & (reviews.local == False)]"
   ]
  },
  {
   "cell_type": "code",
   "execution_count": 414,
   "metadata": {},
   "outputs": [],
   "source": [
    "reviews.loc[(reviews.locatie == 'Geraardsbergen') & (reviews.locatie_reviewer.str.contains('Grammont')) & (reviews.local == False), \"local\"] = True"
   ]
  },
  {
   "cell_type": "code",
   "execution_count": 415,
   "metadata": {},
   "outputs": [
    {
     "output_type": "execute_result",
     "data": {
      "text/plain": "Empty DataFrame\nColumns: [locatie, attractie, locatie_reviewer, local]\nIndex: []",
      "text/html": "<div>\n<style scoped>\n    .dataframe tbody tr th:only-of-type {\n        vertical-align: middle;\n    }\n\n    .dataframe tbody tr th {\n        vertical-align: top;\n    }\n\n    .dataframe thead th {\n        text-align: right;\n    }\n</style>\n<table border=\"1\" class=\"dataframe\">\n  <thead>\n    <tr style=\"text-align: right;\">\n      <th></th>\n      <th>locatie</th>\n      <th>attractie</th>\n      <th>locatie_reviewer</th>\n      <th>local</th>\n    </tr>\n  </thead>\n  <tbody>\n  </tbody>\n</table>\n</div>"
     },
     "metadata": {},
     "execution_count": 415
    }
   ],
   "source": [
    "reviews[(reviews.locatie == 'Veurne') & (reviews.locatie_reviewer.str.contains('Furnes')) & (reviews.local == False)]"
   ]
  },
  {
   "cell_type": "code",
   "execution_count": 416,
   "metadata": {},
   "outputs": [
    {
     "output_type": "execute_result",
     "data": {
      "text/plain": "Empty DataFrame\nColumns: [locatie, attractie, locatie_reviewer, local]\nIndex: []",
      "text/html": "<div>\n<style scoped>\n    .dataframe tbody tr th:only-of-type {\n        vertical-align: middle;\n    }\n\n    .dataframe tbody tr th {\n        vertical-align: top;\n    }\n\n    .dataframe thead th {\n        text-align: right;\n    }\n</style>\n<table border=\"1\" class=\"dataframe\">\n  <thead>\n    <tr style=\"text-align: right;\">\n      <th></th>\n      <th>locatie</th>\n      <th>attractie</th>\n      <th>locatie_reviewer</th>\n      <th>local</th>\n    </tr>\n  </thead>\n  <tbody>\n  </tbody>\n</table>\n</div>"
     },
     "metadata": {},
     "execution_count": 416
    }
   ],
   "source": [
    "reviews[(reviews.locatie == 'Menen') & (reviews.locatie_reviewer.str.contains('Furnes')) & (reviews.local == False)]"
   ]
  },
  {
   "cell_type": "code",
   "execution_count": 417,
   "metadata": {},
   "outputs": [
    {
     "output_type": "execute_result",
     "data": {
      "text/plain": "Empty DataFrame\nColumns: [locatie, attractie, locatie_reviewer, local]\nIndex: []",
      "text/html": "<div>\n<style scoped>\n    .dataframe tbody tr th:only-of-type {\n        vertical-align: middle;\n    }\n\n    .dataframe tbody tr th {\n        vertical-align: top;\n    }\n\n    .dataframe thead th {\n        text-align: right;\n    }\n</style>\n<table border=\"1\" class=\"dataframe\">\n  <thead>\n    <tr style=\"text-align: right;\">\n      <th></th>\n      <th>locatie</th>\n      <th>attractie</th>\n      <th>locatie_reviewer</th>\n      <th>local</th>\n    </tr>\n  </thead>\n  <tbody>\n  </tbody>\n</table>\n</div>"
     },
     "metadata": {},
     "execution_count": 417
    }
   ],
   "source": [
    "reviews[(reviews.locatie == 'Dendermonde') & (reviews.locatie_reviewer.str.contains('Termonde')) & (reviews.local == False)]"
   ]
  },
  {
   "cell_type": "code",
   "execution_count": 418,
   "metadata": {},
   "outputs": [
    {
     "output_type": "execute_result",
     "data": {
      "text/plain": "Empty DataFrame\nColumns: [locatie, attractie, locatie_reviewer, local]\nIndex: []",
      "text/html": "<div>\n<style scoped>\n    .dataframe tbody tr th:only-of-type {\n        vertical-align: middle;\n    }\n\n    .dataframe tbody tr th {\n        vertical-align: top;\n    }\n\n    .dataframe thead th {\n        text-align: right;\n    }\n</style>\n<table border=\"1\" class=\"dataframe\">\n  <thead>\n    <tr style=\"text-align: right;\">\n      <th></th>\n      <th>locatie</th>\n      <th>attractie</th>\n      <th>locatie_reviewer</th>\n      <th>local</th>\n    </tr>\n  </thead>\n  <tbody>\n  </tbody>\n</table>\n</div>"
     },
     "metadata": {},
     "execution_count": 418
    }
   ],
   "source": [
    "reviews[(reviews.locatie == 'Kasterlee') & (reviews.locatie_reviewer.str.contains('Casterlé')) & (reviews.local == False)]"
   ]
  },
  {
   "cell_type": "code",
   "execution_count": 419,
   "metadata": {},
   "outputs": [
    {
     "output_type": "execute_result",
     "data": {
      "text/plain": "Empty DataFrame\nColumns: [locatie, attractie, locatie_reviewer, local]\nIndex: []",
      "text/html": "<div>\n<style scoped>\n    .dataframe tbody tr th:only-of-type {\n        vertical-align: middle;\n    }\n\n    .dataframe tbody tr th {\n        vertical-align: top;\n    }\n\n    .dataframe thead th {\n        text-align: right;\n    }\n</style>\n<table border=\"1\" class=\"dataframe\">\n  <thead>\n    <tr style=\"text-align: right;\">\n      <th></th>\n      <th>locatie</th>\n      <th>attractie</th>\n      <th>locatie_reviewer</th>\n      <th>local</th>\n    </tr>\n  </thead>\n  <tbody>\n  </tbody>\n</table>\n</div>"
     },
     "metadata": {},
     "execution_count": 419
    }
   ],
   "source": [
    "reviews[(reviews.locatie == 'Maldegem') & (reviews.locatie_reviewer.str.contains('Middelbourg')) & (reviews.local == False)]"
   ]
  },
  {
   "cell_type": "code",
   "execution_count": 420,
   "metadata": {},
   "outputs": [
    {
     "output_type": "execute_result",
     "data": {
      "text/plain": "Empty DataFrame\nColumns: [locatie, attractie, locatie_reviewer, local]\nIndex: []",
      "text/html": "<div>\n<style scoped>\n    .dataframe tbody tr th:only-of-type {\n        vertical-align: middle;\n    }\n\n    .dataframe tbody tr th {\n        vertical-align: top;\n    }\n\n    .dataframe thead th {\n        text-align: right;\n    }\n</style>\n<table border=\"1\" class=\"dataframe\">\n  <thead>\n    <tr style=\"text-align: right;\">\n      <th></th>\n      <th>locatie</th>\n      <th>attractie</th>\n      <th>locatie_reviewer</th>\n      <th>local</th>\n    </tr>\n  </thead>\n  <tbody>\n  </tbody>\n</table>\n</div>"
     },
     "metadata": {},
     "execution_count": 420
    }
   ],
   "source": [
    "reviews[(reviews.locatie == 'Ronse') & (reviews.locatie_reviewer.str.contains('Renaix')) & (reviews.local == False)]"
   ]
  },
  {
   "cell_type": "code",
   "execution_count": 421,
   "metadata": {},
   "outputs": [
    {
     "output_type": "execute_result",
     "data": {
      "text/plain": "Empty DataFrame\nColumns: [locatie, attractie, locatie_reviewer, local]\nIndex: []",
      "text/html": "<div>\n<style scoped>\n    .dataframe tbody tr th:only-of-type {\n        vertical-align: middle;\n    }\n\n    .dataframe tbody tr th {\n        vertical-align: top;\n    }\n\n    .dataframe thead th {\n        text-align: right;\n    }\n</style>\n<table border=\"1\" class=\"dataframe\">\n  <thead>\n    <tr style=\"text-align: right;\">\n      <th></th>\n      <th>locatie</th>\n      <th>attractie</th>\n      <th>locatie_reviewer</th>\n      <th>local</th>\n    </tr>\n  </thead>\n  <tbody>\n  </tbody>\n</table>\n</div>"
     },
     "metadata": {},
     "execution_count": 421
    }
   ],
   "source": [
    "reviews[(reviews.locatie == 'Tienen') & (reviews.locatie_reviewer.str.contains('Tirlemont')) & (reviews.local == False)]"
   ]
  },
  {
   "cell_type": "code",
   "execution_count": 422,
   "metadata": {},
   "outputs": [
    {
     "output_type": "execute_result",
     "data": {
      "text/plain": "Empty DataFrame\nColumns: [locatie, attractie, locatie_reviewer, local]\nIndex: []",
      "text/html": "<div>\n<style scoped>\n    .dataframe tbody tr th:only-of-type {\n        vertical-align: middle;\n    }\n\n    .dataframe tbody tr th {\n        vertical-align: top;\n    }\n\n    .dataframe thead th {\n        text-align: right;\n    }\n</style>\n<table border=\"1\" class=\"dataframe\">\n  <thead>\n    <tr style=\"text-align: right;\">\n      <th></th>\n      <th>locatie</th>\n      <th>attractie</th>\n      <th>locatie_reviewer</th>\n      <th>local</th>\n    </tr>\n  </thead>\n  <tbody>\n  </tbody>\n</table>\n</div>"
     },
     "metadata": {},
     "execution_count": 422
    }
   ],
   "source": [
    "reviews[(reviews.locatie == 'Sint-Pieters-Voeren') & (reviews.locatie_reviewer.str.contains('Fourons-Saint-Pierre')) & (reviews.local == False)]"
   ]
  },
  {
   "cell_type": "code",
   "execution_count": 423,
   "metadata": {},
   "outputs": [
    {
     "output_type": "execute_result",
     "data": {
      "text/plain": "Empty DataFrame\nColumns: [locatie, attractie, locatie_reviewer, local]\nIndex: []",
      "text/html": "<div>\n<style scoped>\n    .dataframe tbody tr th:only-of-type {\n        vertical-align: middle;\n    }\n\n    .dataframe tbody tr th {\n        vertical-align: top;\n    }\n\n    .dataframe thead th {\n        text-align: right;\n    }\n</style>\n<table border=\"1\" class=\"dataframe\">\n  <thead>\n    <tr style=\"text-align: right;\">\n      <th></th>\n      <th>locatie</th>\n      <th>attractie</th>\n      <th>locatie_reviewer</th>\n      <th>local</th>\n    </tr>\n  </thead>\n  <tbody>\n  </tbody>\n</table>\n</div>"
     },
     "metadata": {},
     "execution_count": 423
    }
   ],
   "source": [
    "reviews[(reviews.locatie == 'Zoutleeuw') & (reviews.locatie_reviewer.str.contains('Léau')) & (reviews.local == False)]"
   ]
  },
  {
   "cell_type": "code",
   "execution_count": 424,
   "metadata": {},
   "outputs": [
    {
     "output_type": "execute_result",
     "data": {
      "text/plain": "Empty DataFrame\nColumns: [locatie, attractie, locatie_reviewer, local]\nIndex: []",
      "text/html": "<div>\n<style scoped>\n    .dataframe tbody tr th:only-of-type {\n        vertical-align: middle;\n    }\n\n    .dataframe tbody tr th {\n        vertical-align: top;\n    }\n\n    .dataframe thead th {\n        text-align: right;\n    }\n</style>\n<table border=\"1\" class=\"dataframe\">\n  <thead>\n    <tr style=\"text-align: right;\">\n      <th></th>\n      <th>locatie</th>\n      <th>attractie</th>\n      <th>locatie_reviewer</th>\n      <th>local</th>\n    </tr>\n  </thead>\n  <tbody>\n  </tbody>\n</table>\n</div>"
     },
     "metadata": {},
     "execution_count": 424
    }
   ],
   "source": [
    "reviews[(reviews.locatie == 'Heverlee') & (reviews.locatie_reviewer.str.contains('Héverlé')) & (reviews.local == False)]"
   ]
  },
  {
   "cell_type": "code",
   "execution_count": 425,
   "metadata": {},
   "outputs": [
    {
     "output_type": "execute_result",
     "data": {
      "text/plain": "Empty DataFrame\nColumns: [locatie, attractie, locatie_reviewer, local]\nIndex: []",
      "text/html": "<div>\n<style scoped>\n    .dataframe tbody tr th:only-of-type {\n        vertical-align: middle;\n    }\n\n    .dataframe tbody tr th {\n        vertical-align: top;\n    }\n\n    .dataframe thead th {\n        text-align: right;\n    }\n</style>\n<table border=\"1\" class=\"dataframe\">\n  <thead>\n    <tr style=\"text-align: right;\">\n      <th></th>\n      <th>locatie</th>\n      <th>attractie</th>\n      <th>locatie_reviewer</th>\n      <th>local</th>\n    </tr>\n  </thead>\n  <tbody>\n  </tbody>\n</table>\n</div>"
     },
     "metadata": {},
     "execution_count": 425
    }
   ],
   "source": [
    "reviews[(reviews.locatie == 'Sint-Martens-Latem') & (reviews.locatie_reviewer.str.contains('Laethem-Saint-Martin')) & (reviews.local == False)]"
   ]
  },
  {
   "cell_type": "code",
   "execution_count": 426,
   "metadata": {},
   "outputs": [
    {
     "output_type": "execute_result",
     "data": {
      "text/plain": "Empty DataFrame\nColumns: [locatie, attractie, locatie_reviewer, local]\nIndex: []",
      "text/html": "<div>\n<style scoped>\n    .dataframe tbody tr th:only-of-type {\n        vertical-align: middle;\n    }\n\n    .dataframe tbody tr th {\n        vertical-align: top;\n    }\n\n    .dataframe thead th {\n        text-align: right;\n    }\n</style>\n<table border=\"1\" class=\"dataframe\">\n  <thead>\n    <tr style=\"text-align: right;\">\n      <th></th>\n      <th>locatie</th>\n      <th>attractie</th>\n      <th>locatie_reviewer</th>\n      <th>local</th>\n    </tr>\n  </thead>\n  <tbody>\n  </tbody>\n</table>\n</div>"
     },
     "metadata": {},
     "execution_count": 426
    }
   ],
   "source": [
    "reviews[(reviews.locatie == 'Overijse') & (reviews.locatie_reviewer.str.contains('Isque')) & (reviews.local == False)]"
   ]
  },
  {
   "cell_type": "code",
   "execution_count": 427,
   "metadata": {},
   "outputs": [
    {
     "output_type": "execute_result",
     "data": {
      "text/plain": "Empty DataFrame\nColumns: [locatie, attractie, locatie_reviewer, local]\nIndex: []",
      "text/html": "<div>\n<style scoped>\n    .dataframe tbody tr th:only-of-type {\n        vertical-align: middle;\n    }\n\n    .dataframe tbody tr th {\n        vertical-align: top;\n    }\n\n    .dataframe thead th {\n        text-align: right;\n    }\n</style>\n<table border=\"1\" class=\"dataframe\">\n  <thead>\n    <tr style=\"text-align: right;\">\n      <th></th>\n      <th>locatie</th>\n      <th>attractie</th>\n      <th>locatie_reviewer</th>\n      <th>local</th>\n    </tr>\n  </thead>\n  <tbody>\n  </tbody>\n</table>\n</div>"
     },
     "metadata": {},
     "execution_count": 427
    }
   ],
   "source": [
    "reviews[(reviews.locatie == 'Rhode-Saint-Genése') & (reviews.locatie_reviewer.str.contains('Sint-Genesius-Rode')) & (reviews.local == False)]"
   ]
  },
  {
   "cell_type": "code",
   "execution_count": 428,
   "metadata": {},
   "outputs": [
    {
     "output_type": "execute_result",
     "data": {
      "text/plain": "Empty DataFrame\nColumns: [locatie, attractie, locatie_reviewer, local]\nIndex: []",
      "text/html": "<div>\n<style scoped>\n    .dataframe tbody tr th:only-of-type {\n        vertical-align: middle;\n    }\n\n    .dataframe tbody tr th {\n        vertical-align: top;\n    }\n\n    .dataframe thead th {\n        text-align: right;\n    }\n</style>\n<table border=\"1\" class=\"dataframe\">\n  <thead>\n    <tr style=\"text-align: right;\">\n      <th></th>\n      <th>locatie</th>\n      <th>attractie</th>\n      <th>locatie_reviewer</th>\n      <th>local</th>\n    </tr>\n  </thead>\n  <tbody>\n  </tbody>\n</table>\n</div>"
     },
     "metadata": {},
     "execution_count": 428
    }
   ],
   "source": [
    "reviews[(reviews.locatie == 'Baarle-Hertog') & (reviews.locatie_reviewer.str.contains('Baerle-Duc')) & (reviews.local == False)]"
   ]
  },
  {
   "cell_type": "code",
   "execution_count": 429,
   "metadata": {},
   "outputs": [
    {
     "output_type": "execute_result",
     "data": {
      "text/plain": "Empty DataFrame\nColumns: [locatie, attractie, locatie_reviewer, local]\nIndex: []",
      "text/html": "<div>\n<style scoped>\n    .dataframe tbody tr th:only-of-type {\n        vertical-align: middle;\n    }\n\n    .dataframe tbody tr th {\n        vertical-align: top;\n    }\n\n    .dataframe thead th {\n        text-align: right;\n    }\n</style>\n<table border=\"1\" class=\"dataframe\">\n  <thead>\n    <tr style=\"text-align: right;\">\n      <th></th>\n      <th>locatie</th>\n      <th>attractie</th>\n      <th>locatie_reviewer</th>\n      <th>local</th>\n    </tr>\n  </thead>\n  <tbody>\n  </tbody>\n</table>\n</div>"
     },
     "metadata": {},
     "execution_count": 429
    }
   ],
   "source": [
    "reviews[(reviews.locatie == 'Sint-Michiels') & (reviews.locatie_reviewer.str.contains('Saint Michel')) & (reviews.local == False)]"
   ]
  },
  {
   "cell_type": "code",
   "execution_count": 430,
   "metadata": {},
   "outputs": [
    {
     "output_type": "execute_result",
     "data": {
      "text/plain": "Empty DataFrame\nColumns: [locatie, attractie, locatie_reviewer, local]\nIndex: []",
      "text/html": "<div>\n<style scoped>\n    .dataframe tbody tr th:only-of-type {\n        vertical-align: middle;\n    }\n\n    .dataframe tbody tr th {\n        vertical-align: top;\n    }\n\n    .dataframe thead th {\n        text-align: right;\n    }\n</style>\n<table border=\"1\" class=\"dataframe\">\n  <thead>\n    <tr style=\"text-align: right;\">\n      <th></th>\n      <th>locatie</th>\n      <th>attractie</th>\n      <th>locatie_reviewer</th>\n      <th>local</th>\n    </tr>\n  </thead>\n  <tbody>\n  </tbody>\n</table>\n</div>"
     },
     "metadata": {},
     "execution_count": 430
    }
   ],
   "source": [
    "reviews[(reviews.locatie == 'Gistel') & (reviews.locatie_reviewer.str.contains('Ghistelles')) & (reviews.local == False)]"
   ]
  },
  {
   "cell_type": "code",
   "execution_count": 431,
   "metadata": {},
   "outputs": [
    {
     "output_type": "execute_result",
     "data": {
      "text/plain": "Empty DataFrame\nColumns: [locatie, attractie, locatie_reviewer, local]\nIndex: []",
      "text/html": "<div>\n<style scoped>\n    .dataframe tbody tr th:only-of-type {\n        vertical-align: middle;\n    }\n\n    .dataframe tbody tr th {\n        vertical-align: top;\n    }\n\n    .dataframe thead th {\n        text-align: right;\n    }\n</style>\n<table border=\"1\" class=\"dataframe\">\n  <thead>\n    <tr style=\"text-align: right;\">\n      <th></th>\n      <th>locatie</th>\n      <th>attractie</th>\n      <th>locatie_reviewer</th>\n      <th>local</th>\n    </tr>\n  </thead>\n  <tbody>\n  </tbody>\n</table>\n</div>"
     },
     "metadata": {},
     "execution_count": 431
    }
   ],
   "source": [
    "reviews[(reviews.locatie == 'Leopoldsburg') & (reviews.locatie_reviewer.str.contains('Bourg-Léopold')) & (reviews.local == False)]"
   ]
  },
  {
   "cell_type": "code",
   "execution_count": 432,
   "metadata": {},
   "outputs": [
    {
     "output_type": "execute_result",
     "data": {
      "text/plain": "Empty DataFrame\nColumns: [locatie, attractie, locatie_reviewer, local]\nIndex: []",
      "text/html": "<div>\n<style scoped>\n    .dataframe tbody tr th:only-of-type {\n        vertical-align: middle;\n    }\n\n    .dataframe tbody tr th {\n        vertical-align: top;\n    }\n\n    .dataframe thead th {\n        text-align: right;\n    }\n</style>\n<table border=\"1\" class=\"dataframe\">\n  <thead>\n    <tr style=\"text-align: right;\">\n      <th></th>\n      <th>locatie</th>\n      <th>attractie</th>\n      <th>locatie_reviewer</th>\n      <th>local</th>\n    </tr>\n  </thead>\n  <tbody>\n  </tbody>\n</table>\n</div>"
     },
     "metadata": {},
     "execution_count": 432
    }
   ],
   "source": [
    "reviews[(reviews.locatie == 'Temse') & (reviews.locatie_reviewer.str.contains('Tamise')) & (reviews.local == False)]"
   ]
  },
  {
   "cell_type": "code",
   "execution_count": 433,
   "metadata": {},
   "outputs": [
    {
     "output_type": "execute_result",
     "data": {
      "text/plain": "Empty DataFrame\nColumns: [locatie, attractie, locatie_reviewer, local]\nIndex: []",
      "text/html": "<div>\n<style scoped>\n    .dataframe tbody tr th:only-of-type {\n        vertical-align: middle;\n    }\n\n    .dataframe tbody tr th {\n        vertical-align: top;\n    }\n\n    .dataframe thead th {\n        text-align: right;\n    }\n</style>\n<table border=\"1\" class=\"dataframe\">\n  <thead>\n    <tr style=\"text-align: right;\">\n      <th></th>\n      <th>locatie</th>\n      <th>attractie</th>\n      <th>locatie_reviewer</th>\n      <th>local</th>\n    </tr>\n  </thead>\n  <tbody>\n  </tbody>\n</table>\n</div>"
     },
     "metadata": {},
     "execution_count": 433
    }
   ],
   "source": [
    "reviews[(reviews.locatie == 'Balen') & (reviews.locatie_reviewer.str.contains('Baelen')) & (reviews.local == False)]"
   ]
  },
  {
   "cell_type": "code",
   "execution_count": 434,
   "metadata": {},
   "outputs": [
    {
     "output_type": "execute_result",
     "data": {
      "text/plain": "Empty DataFrame\nColumns: [locatie, attractie, locatie_reviewer, local]\nIndex: []",
      "text/html": "<div>\n<style scoped>\n    .dataframe tbody tr th:only-of-type {\n        vertical-align: middle;\n    }\n\n    .dataframe tbody tr th {\n        vertical-align: top;\n    }\n\n    .dataframe thead th {\n        text-align: right;\n    }\n</style>\n<table border=\"1\" class=\"dataframe\">\n  <thead>\n    <tr style=\"text-align: right;\">\n      <th></th>\n      <th>locatie</th>\n      <th>attractie</th>\n      <th>locatie_reviewer</th>\n      <th>local</th>\n    </tr>\n  </thead>\n  <tbody>\n  </tbody>\n</table>\n</div>"
     },
     "metadata": {},
     "execution_count": 434
    }
   ],
   "source": [
    "reviews[(reviews.locatie == 'Dworp') & (reviews.locatie_reviewer.str.contains('Tourneppe')) & (reviews.local == False)]"
   ]
  },
  {
   "cell_type": "code",
   "execution_count": 435,
   "metadata": {},
   "outputs": [
    {
     "output_type": "execute_result",
     "data": {
      "text/plain": "Empty DataFrame\nColumns: [locatie, attractie, locatie_reviewer, local]\nIndex: []",
      "text/html": "<div>\n<style scoped>\n    .dataframe tbody tr th:only-of-type {\n        vertical-align: middle;\n    }\n\n    .dataframe tbody tr th {\n        vertical-align: top;\n    }\n\n    .dataframe thead th {\n        text-align: right;\n    }\n</style>\n<table border=\"1\" class=\"dataframe\">\n  <thead>\n    <tr style=\"text-align: right;\">\n      <th></th>\n      <th>locatie</th>\n      <th>attractie</th>\n      <th>locatie_reviewer</th>\n      <th>local</th>\n    </tr>\n  </thead>\n  <tbody>\n  </tbody>\n</table>\n</div>"
     },
     "metadata": {},
     "execution_count": 435
    }
   ],
   "source": [
    "reviews[(reviews.locatie == 'Sint-Katelijne-Waver') & (reviews.locatie_reviewer.str.contains('Wavre-Saint-Cathérine')) & (reviews.local == False)]"
   ]
  },
  {
   "cell_type": "code",
   "execution_count": 436,
   "metadata": {},
   "outputs": [
    {
     "output_type": "execute_result",
     "data": {
      "text/plain": "Empty DataFrame\nColumns: [locatie, attractie, locatie_reviewer, local]\nIndex: []",
      "text/html": "<div>\n<style scoped>\n    .dataframe tbody tr th:only-of-type {\n        vertical-align: middle;\n    }\n\n    .dataframe tbody tr th {\n        vertical-align: top;\n    }\n\n    .dataframe thead th {\n        text-align: right;\n    }\n</style>\n<table border=\"1\" class=\"dataframe\">\n  <thead>\n    <tr style=\"text-align: right;\">\n      <th></th>\n      <th>locatie</th>\n      <th>attractie</th>\n      <th>locatie_reviewer</th>\n      <th>local</th>\n    </tr>\n  </thead>\n  <tbody>\n  </tbody>\n</table>\n</div>"
     },
     "metadata": {},
     "execution_count": 436
    }
   ],
   "source": [
    "reviews[(reviews.locatie == 'Aalter') & (reviews.locatie_reviewer.str.contains('Aeltre')) & (reviews.local == False)]"
   ]
  },
  {
   "cell_type": "code",
   "execution_count": 437,
   "metadata": {},
   "outputs": [],
   "source": [
    "reviews.loc[(reviews.locatie == 'Luik') & (reviews.locatie_reviewer.str.contains('Liège')) & (reviews.local == False), \"local\"] = True"
   ]
  },
  {
   "cell_type": "code",
   "execution_count": 438,
   "metadata": {},
   "outputs": [],
   "source": [
    "reviews.loc[(reviews.locatie == 'Luik') & (reviews.locatie_reviewer.str.contains('liège')) & (reviews.local == False), \"local\"] = True"
   ]
  },
  {
   "cell_type": "code",
   "execution_count": 439,
   "metadata": {},
   "outputs": [],
   "source": [
    "reviews.loc[(reviews.locatie == 'Namen') & (reviews.locatie_reviewer.str.contains('Namur')) & (reviews.local == False), \"local\"] = True"
   ]
  },
  {
   "cell_type": "code",
   "execution_count": 440,
   "metadata": {},
   "outputs": [],
   "source": [
    "reviews.loc[(reviews.locatie == 'Namen') & (reviews.locatie_reviewer.str.contains('namur')) & (reviews.local == False), \"local\"] = True"
   ]
  },
  {
   "cell_type": "code",
   "execution_count": 441,
   "metadata": {},
   "outputs": [
    {
     "output_type": "execute_result",
     "data": {
      "text/plain": "attractie\n'T Gaverhopke                           13\n'T Kuipke                                0\n'T Zand                                 25\n't Gasthuys - Stedelijk Museum Aalst    10\n't Grom                                  1\n                                        ..\nÉglise Saint-Nicolas-en-Havré            4\nÉglise Saint-Sulpice de Jumet            1\nÉglise Sainte-Marguerite de Tournai      1\nÉglise Saints-Pierre-et-Paul             4\nМaison des Ducs de Brabant               0\nLength: 2832, dtype: int64"
     },
     "metadata": {},
     "execution_count": 441
    }
   ],
   "source": [
    "reviews.groupby('attractie').apply(lambda x: sum(x['local']))"
   ]
  },
  {
   "cell_type": "code",
   "execution_count": 442,
   "metadata": {},
   "outputs": [],
   "source": [
    "grouped = reviews.groupby(['locatie', 'attractie']).agg({'local': 'sum', 'locatie_reviewer': 'count'}).reset_index()"
   ]
  },
  {
   "cell_type": "code",
   "execution_count": 443,
   "metadata": {},
   "outputs": [],
   "source": [
    "grouped['pct'] = grouped['local'] / grouped['locatie_reviewer'] * 100"
   ]
  },
  {
   "cell_type": "code",
   "execution_count": 444,
   "metadata": {},
   "outputs": [],
   "source": [
    "grouped.pct = grouped.pct.round(0)"
   ]
  },
  {
   "cell_type": "code",
   "execution_count": 445,
   "metadata": {},
   "outputs": [],
   "source": [
    "gemiddeld = grouped.pct.mean()"
   ]
  },
  {
   "cell_type": "code",
   "execution_count": 446,
   "metadata": {
    "tags": []
   },
   "outputs": [
    {
     "output_type": "stream",
     "name": "stdout",
     "text": "18.8856050069541\n"
    }
   ],
   "source": [
    "print(gemiddeld)"
   ]
  },
  {
   "cell_type": "code",
   "execution_count": 447,
   "metadata": {},
   "outputs": [
    {
     "output_type": "execute_result",
     "data": {
      "text/plain": "         locatie                             attractie  local  \\\n0          Aalst  't Gasthuys - Stedelijk Museum Aalst   10.0   \n1          Aalst                               Belfort   20.0   \n2          Aalst                     Carnival of Aalst   10.0   \n3          Aalst                 Dender Bicycle Trails    9.0   \n4          Aalst                         Jesuit Church    4.0   \n...          ...                                   ...    ...   \n2867   Zoutleeuw                   St Leonard's Church    4.0   \n2868  Zuienkerke                 Poldermolen Meetkerke    1.0   \n2871   Zutendaal         Openluchtzwembad `t Soete Dal    1.0   \n2874    Zwevegem          Bevergemroute in Sint-Denijs    2.0   \n2875    Zwevegem                        Mortiers Molen    1.0   \n\n      locatie_reviewer   pct  \n0                   27  37.0  \n1                   46  43.0  \n2                   23  43.0  \n3                   21  43.0  \n4                    7  57.0  \n...                ...   ...  \n2867                19  21.0  \n2868                 2  50.0  \n2871                 4  25.0  \n2874                 4  50.0  \n2875                 2  50.0  \n\n[1085 rows x 5 columns]",
      "text/html": "<div>\n<style scoped>\n    .dataframe tbody tr th:only-of-type {\n        vertical-align: middle;\n    }\n\n    .dataframe tbody tr th {\n        vertical-align: top;\n    }\n\n    .dataframe thead th {\n        text-align: right;\n    }\n</style>\n<table border=\"1\" class=\"dataframe\">\n  <thead>\n    <tr style=\"text-align: right;\">\n      <th></th>\n      <th>locatie</th>\n      <th>attractie</th>\n      <th>local</th>\n      <th>locatie_reviewer</th>\n      <th>pct</th>\n    </tr>\n  </thead>\n  <tbody>\n    <tr>\n      <th>0</th>\n      <td>Aalst</td>\n      <td>'t Gasthuys - Stedelijk Museum Aalst</td>\n      <td>10.0</td>\n      <td>27</td>\n      <td>37.0</td>\n    </tr>\n    <tr>\n      <th>1</th>\n      <td>Aalst</td>\n      <td>Belfort</td>\n      <td>20.0</td>\n      <td>46</td>\n      <td>43.0</td>\n    </tr>\n    <tr>\n      <th>2</th>\n      <td>Aalst</td>\n      <td>Carnival of Aalst</td>\n      <td>10.0</td>\n      <td>23</td>\n      <td>43.0</td>\n    </tr>\n    <tr>\n      <th>3</th>\n      <td>Aalst</td>\n      <td>Dender Bicycle Trails</td>\n      <td>9.0</td>\n      <td>21</td>\n      <td>43.0</td>\n    </tr>\n    <tr>\n      <th>4</th>\n      <td>Aalst</td>\n      <td>Jesuit Church</td>\n      <td>4.0</td>\n      <td>7</td>\n      <td>57.0</td>\n    </tr>\n    <tr>\n      <th>...</th>\n      <td>...</td>\n      <td>...</td>\n      <td>...</td>\n      <td>...</td>\n      <td>...</td>\n    </tr>\n    <tr>\n      <th>2867</th>\n      <td>Zoutleeuw</td>\n      <td>St Leonard's Church</td>\n      <td>4.0</td>\n      <td>19</td>\n      <td>21.0</td>\n    </tr>\n    <tr>\n      <th>2868</th>\n      <td>Zuienkerke</td>\n      <td>Poldermolen Meetkerke</td>\n      <td>1.0</td>\n      <td>2</td>\n      <td>50.0</td>\n    </tr>\n    <tr>\n      <th>2871</th>\n      <td>Zutendaal</td>\n      <td>Openluchtzwembad `t Soete Dal</td>\n      <td>1.0</td>\n      <td>4</td>\n      <td>25.0</td>\n    </tr>\n    <tr>\n      <th>2874</th>\n      <td>Zwevegem</td>\n      <td>Bevergemroute in Sint-Denijs</td>\n      <td>2.0</td>\n      <td>4</td>\n      <td>50.0</td>\n    </tr>\n    <tr>\n      <th>2875</th>\n      <td>Zwevegem</td>\n      <td>Mortiers Molen</td>\n      <td>1.0</td>\n      <td>2</td>\n      <td>50.0</td>\n    </tr>\n  </tbody>\n</table>\n<p>1085 rows × 5 columns</p>\n</div>"
     },
     "metadata": {},
     "execution_count": 447
    }
   ],
   "source": [
    "grouped[grouped.pct > gemiddeld]"
   ]
  },
  {
   "cell_type": "code",
   "execution_count": 448,
   "metadata": {
    "tags": []
   },
   "outputs": [
    {
     "output_type": "execute_result",
     "data": {
      "text/plain": "2832"
     },
     "metadata": {},
     "execution_count": 448
    }
   ],
   "source": [
    "reviews.attractie.nunique()"
   ]
  },
  {
   "cell_type": "code",
   "execution_count": 449,
   "metadata": {},
   "outputs": [],
   "source": [
    "merged = pd.merge(grouped, attracties, on=['locatie', 'attractie'], how='inner')"
   ]
  },
  {
   "cell_type": "code",
   "execution_count": 450,
   "metadata": {},
   "outputs": [
    {
     "output_type": "execute_result",
     "data": {
      "text/plain": "2832"
     },
     "metadata": {},
     "execution_count": 450
    }
   ],
   "source": [
    "merged.attractie.nunique()"
   ]
  },
  {
   "cell_type": "code",
   "execution_count": 451,
   "metadata": {},
   "outputs": [],
   "source": [
    "locaties = pd.read_csv('locaties.csv')"
   ]
  },
  {
   "cell_type": "code",
   "execution_count": 452,
   "metadata": {},
   "outputs": [],
   "source": [
    "locaties = locaties.drop_duplicates()"
   ]
  },
  {
   "cell_type": "code",
   "execution_count": 453,
   "metadata": {},
   "outputs": [],
   "source": [
    "locaties = locaties[locaties.latitude != 0.0]"
   ]
  },
  {
   "cell_type": "code",
   "execution_count": 454,
   "metadata": {},
   "outputs": [],
   "source": [
    "final_merge = pd.merge(merged, locaties, on=['locatie', 'attractie'], how='outer', indicator='datasets')"
   ]
  },
  {
   "cell_type": "code",
   "execution_count": 455,
   "metadata": {},
   "outputs": [
    {
     "output_type": "execute_result",
     "data": {
      "text/plain": "Empty DataFrame\nColumns: [locatie, attractie, local, locatie_reviewer, pct, aantal_reviews, rating, adres, latitude, longitude, datasets]\nIndex: []",
      "text/html": "<div>\n<style scoped>\n    .dataframe tbody tr th:only-of-type {\n        vertical-align: middle;\n    }\n\n    .dataframe tbody tr th {\n        vertical-align: top;\n    }\n\n    .dataframe thead th {\n        text-align: right;\n    }\n</style>\n<table border=\"1\" class=\"dataframe\">\n  <thead>\n    <tr style=\"text-align: right;\">\n      <th></th>\n      <th>locatie</th>\n      <th>attractie</th>\n      <th>local</th>\n      <th>locatie_reviewer</th>\n      <th>pct</th>\n      <th>aantal_reviews</th>\n      <th>rating</th>\n      <th>adres</th>\n      <th>latitude</th>\n      <th>longitude</th>\n      <th>datasets</th>\n    </tr>\n  </thead>\n  <tbody>\n  </tbody>\n</table>\n</div>"
     },
     "metadata": {},
     "execution_count": 455
    }
   ],
   "source": [
    "final_merge[(final_merge.duplicated()) & (final_merge.datasets == 'both') & (final_merge.attractie != 'Onbekende attractie')]"
   ]
  },
  {
   "cell_type": "code",
   "execution_count": 456,
   "metadata": {},
   "outputs": [
    {
     "output_type": "execute_result",
     "data": {
      "text/plain": "Empty DataFrame\nColumns: [locatie, attractie, local, locatie_reviewer, pct, aantal_reviews, rating, adres, latitude, longitude, datasets]\nIndex: []",
      "text/html": "<div>\n<style scoped>\n    .dataframe tbody tr th:only-of-type {\n        vertical-align: middle;\n    }\n\n    .dataframe tbody tr th {\n        vertical-align: top;\n    }\n\n    .dataframe thead th {\n        text-align: right;\n    }\n</style>\n<table border=\"1\" class=\"dataframe\">\n  <thead>\n    <tr style=\"text-align: right;\">\n      <th></th>\n      <th>locatie</th>\n      <th>attractie</th>\n      <th>local</th>\n      <th>locatie_reviewer</th>\n      <th>pct</th>\n      <th>aantal_reviews</th>\n      <th>rating</th>\n      <th>adres</th>\n      <th>latitude</th>\n      <th>longitude</th>\n      <th>datasets</th>\n    </tr>\n  </thead>\n  <tbody>\n  </tbody>\n</table>\n</div>"
     },
     "metadata": {},
     "execution_count": 456
    }
   ],
   "source": [
    "final_merge[(final_merge.latitude == 0.0) & (final_merge.datasets == 'both') & (final_merge.pct > gemiddeld) & (final_merge.attractie != 'Onbekende attractie')]"
   ]
  },
  {
   "cell_type": "code",
   "execution_count": 457,
   "metadata": {},
   "outputs": [],
   "source": [
    "final_merge = final_merge.drop_duplicates()"
   ]
  },
  {
   "cell_type": "code",
   "execution_count": 458,
   "metadata": {
    "tags": []
   },
   "outputs": [
    {
     "output_type": "stream",
     "name": "stdout",
     "text": "<class 'pandas.core.frame.DataFrame'>\nInt64Index: 3305 entries, 0 to 3332\nData columns (total 11 columns):\n #   Column            Non-Null Count  Dtype   \n---  ------            --------------  -----   \n 0   locatie           3305 non-null   object  \n 1   attractie         3305 non-null   object  \n 2   local             2892 non-null   float64 \n 3   locatie_reviewer  2892 non-null   float64 \n 4   pct               2892 non-null   float64 \n 5   aantal_reviews    2892 non-null   float64 \n 6   rating            2892 non-null   float64 \n 7   adres             2702 non-null   object  \n 8   latitude          2702 non-null   float64 \n 9   longitude         2702 non-null   float64 \n 10  datasets          3305 non-null   category\ndtypes: category(1), float64(7), object(3)\nmemory usage: 287.4+ KB\n"
    }
   ],
   "source": [
    "final_merge.info()"
   ]
  },
  {
   "cell_type": "code",
   "execution_count": 459,
   "metadata": {},
   "outputs": [
    {
     "output_type": "execute_result",
     "data": {
      "text/plain": "1087"
     },
     "metadata": {},
     "execution_count": 459
    }
   ],
   "source": [
    "len(final_merge[final_merge.pct > gemiddeld])"
   ]
  },
  {
   "cell_type": "code",
   "execution_count": 463,
   "metadata": {},
   "outputs": [
    {
     "output_type": "execute_result",
     "data": {
      "text/plain": "        locatie               attractie  local  locatie_reviewer   pct  \\\n1         Aalst                 Belfort   20.0              46.0  43.0   \n8         Aalst       Sint-Martinuskerk   29.0              57.0  51.0   \n10        Aalst               Stadspark   16.0              33.0  48.0   \n51    Antwerpen               Beguinage   23.0             121.0  19.0   \n82    Antwerpen             Grote Markt  276.0            2928.0   9.0   \n...         ...                     ...    ...               ...   ...   \n2705    Tournai             Grand Place   11.0              59.0  19.0   \n2743   Turnhout    Saint Peter's Church    8.0              34.0  24.0   \n2749   Verviers          Hotel de ville   13.0              28.0  46.0   \n2767     Veurne               Town Hall    6.0              69.0   9.0   \n2876     Xhoris  Musee de la Vie Rurale    0.0               3.0   0.0   \n\n      aantal_reviews  rating  \\\n1               52.0     4.5   \n8               63.0     4.3   \n10              39.0     4.4   \n51             130.0     4.4   \n82            3225.0     4.5   \n...              ...     ...   \n2705            70.0     4.2   \n2743            36.0     4.3   \n2749            32.0     4.0   \n2767            76.0     4.6   \n2876             3.0     4.3   \n\n                                                  adres   latitude  longitude  \\\n1                        Grote Markt, Aalst 9300 België  50.938278   4.039421   \n8                Priester Daensplein, Aalst 9300 België  50.937558   4.040555   \n10                          Parklaan, Aalst 9300 België  50.932864   4.045915   \n51                 Rodestraat 39, Antwerpen 2000 België  51.222640   4.414329   \n82                                Antwerpen 2800 België  51.221110   4.399708   \n...                                                 ...        ...        ...   \n2705                                     Onbekend adres  50.606238   3.386266   \n2743               Grote Markt 44, Turnhout 2300 België  51.322581   4.950118   \n2749                Place du Marché 55, Verviers België  50.593457   5.867593   \n2767                 Grote Markt 29, Veurne 8630 België  51.072848   2.661729   \n2876  Route de Hamoir 34, Xhoris, Ferrieres 4190 België  50.445543   5.603963   \n\n     datasets  \n1        both  \n8        both  \n10       both  \n51       both  \n82       both  \n...       ...  \n2705     both  \n2743     both  \n2749     both  \n2767     both  \n2876     both  \n\n[95 rows x 11 columns]",
      "text/html": "<div>\n<style scoped>\n    .dataframe tbody tr th:only-of-type {\n        vertical-align: middle;\n    }\n\n    .dataframe tbody tr th {\n        vertical-align: top;\n    }\n\n    .dataframe thead th {\n        text-align: right;\n    }\n</style>\n<table border=\"1\" class=\"dataframe\">\n  <thead>\n    <tr style=\"text-align: right;\">\n      <th></th>\n      <th>locatie</th>\n      <th>attractie</th>\n      <th>local</th>\n      <th>locatie_reviewer</th>\n      <th>pct</th>\n      <th>aantal_reviews</th>\n      <th>rating</th>\n      <th>adres</th>\n      <th>latitude</th>\n      <th>longitude</th>\n      <th>datasets</th>\n    </tr>\n  </thead>\n  <tbody>\n    <tr>\n      <th>1</th>\n      <td>Aalst</td>\n      <td>Belfort</td>\n      <td>20.0</td>\n      <td>46.0</td>\n      <td>43.0</td>\n      <td>52.0</td>\n      <td>4.5</td>\n      <td>Grote Markt, Aalst 9300 België</td>\n      <td>50.938278</td>\n      <td>4.039421</td>\n      <td>both</td>\n    </tr>\n    <tr>\n      <th>8</th>\n      <td>Aalst</td>\n      <td>Sint-Martinuskerk</td>\n      <td>29.0</td>\n      <td>57.0</td>\n      <td>51.0</td>\n      <td>63.0</td>\n      <td>4.3</td>\n      <td>Priester Daensplein, Aalst 9300 België</td>\n      <td>50.937558</td>\n      <td>4.040555</td>\n      <td>both</td>\n    </tr>\n    <tr>\n      <th>10</th>\n      <td>Aalst</td>\n      <td>Stadspark</td>\n      <td>16.0</td>\n      <td>33.0</td>\n      <td>48.0</td>\n      <td>39.0</td>\n      <td>4.4</td>\n      <td>Parklaan, Aalst 9300 België</td>\n      <td>50.932864</td>\n      <td>4.045915</td>\n      <td>both</td>\n    </tr>\n    <tr>\n      <th>51</th>\n      <td>Antwerpen</td>\n      <td>Beguinage</td>\n      <td>23.0</td>\n      <td>121.0</td>\n      <td>19.0</td>\n      <td>130.0</td>\n      <td>4.4</td>\n      <td>Rodestraat 39, Antwerpen 2000 België</td>\n      <td>51.222640</td>\n      <td>4.414329</td>\n      <td>both</td>\n    </tr>\n    <tr>\n      <th>82</th>\n      <td>Antwerpen</td>\n      <td>Grote Markt</td>\n      <td>276.0</td>\n      <td>2928.0</td>\n      <td>9.0</td>\n      <td>3225.0</td>\n      <td>4.5</td>\n      <td>Antwerpen 2800 België</td>\n      <td>51.221110</td>\n      <td>4.399708</td>\n      <td>both</td>\n    </tr>\n    <tr>\n      <th>...</th>\n      <td>...</td>\n      <td>...</td>\n      <td>...</td>\n      <td>...</td>\n      <td>...</td>\n      <td>...</td>\n      <td>...</td>\n      <td>...</td>\n      <td>...</td>\n      <td>...</td>\n      <td>...</td>\n    </tr>\n    <tr>\n      <th>2705</th>\n      <td>Tournai</td>\n      <td>Grand Place</td>\n      <td>11.0</td>\n      <td>59.0</td>\n      <td>19.0</td>\n      <td>70.0</td>\n      <td>4.2</td>\n      <td>Onbekend adres</td>\n      <td>50.606238</td>\n      <td>3.386266</td>\n      <td>both</td>\n    </tr>\n    <tr>\n      <th>2743</th>\n      <td>Turnhout</td>\n      <td>Saint Peter's Church</td>\n      <td>8.0</td>\n      <td>34.0</td>\n      <td>24.0</td>\n      <td>36.0</td>\n      <td>4.3</td>\n      <td>Grote Markt 44, Turnhout 2300 België</td>\n      <td>51.322581</td>\n      <td>4.950118</td>\n      <td>both</td>\n    </tr>\n    <tr>\n      <th>2749</th>\n      <td>Verviers</td>\n      <td>Hotel de ville</td>\n      <td>13.0</td>\n      <td>28.0</td>\n      <td>46.0</td>\n      <td>32.0</td>\n      <td>4.0</td>\n      <td>Place du Marché 55, Verviers België</td>\n      <td>50.593457</td>\n      <td>5.867593</td>\n      <td>both</td>\n    </tr>\n    <tr>\n      <th>2767</th>\n      <td>Veurne</td>\n      <td>Town Hall</td>\n      <td>6.0</td>\n      <td>69.0</td>\n      <td>9.0</td>\n      <td>76.0</td>\n      <td>4.6</td>\n      <td>Grote Markt 29, Veurne 8630 België</td>\n      <td>51.072848</td>\n      <td>2.661729</td>\n      <td>both</td>\n    </tr>\n    <tr>\n      <th>2876</th>\n      <td>Xhoris</td>\n      <td>Musee de la Vie Rurale</td>\n      <td>0.0</td>\n      <td>3.0</td>\n      <td>0.0</td>\n      <td>3.0</td>\n      <td>4.3</td>\n      <td>Route de Hamoir 34, Xhoris, Ferrieres 4190 België</td>\n      <td>50.445543</td>\n      <td>5.603963</td>\n      <td>both</td>\n    </tr>\n  </tbody>\n</table>\n<p>95 rows × 11 columns</p>\n</div>"
     },
     "metadata": {},
     "execution_count": 463
    }
   ],
   "source": [
    "final_merge[(final_merge.attractie.duplicated(keep=False)) & (final_merge.datasets == 'both')]"
   ]
  },
  {
   "cell_type": "code",
   "execution_count": null,
   "metadata": {},
   "outputs": [],
   "source": []
  }
 ],
 "metadata": {
  "language_info": {
   "codemirror_mode": {
    "name": "ipython",
    "version": 3
   },
   "file_extension": ".py",
   "mimetype": "text/x-python",
   "name": "python",
   "nbconvert_exporter": "python",
   "pygments_lexer": "ipython3",
   "version": 3
  },
  "orig_nbformat": 2,
  "kernelspec": {
   "name": "python_defaultSpec_1594634406461",
   "display_name": "Python 3.7.6 64-bit ('base': conda)"
  }
 },
 "nbformat": 4,
 "nbformat_minor": 2
}